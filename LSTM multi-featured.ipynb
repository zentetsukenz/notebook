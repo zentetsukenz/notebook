{
 "cells": [
  {
   "cell_type": "markdown",
   "metadata": {},
   "source": [
    "# Data"
   ]
  },
  {
   "cell_type": "markdown",
   "metadata": {},
   "source": [
    "## Preparation"
   ]
  },
  {
   "cell_type": "code",
   "execution_count": 841,
   "metadata": {
    "collapsed": true
   },
   "outputs": [],
   "source": [
    "import pandas as pd\n",
    "import numpy as np\n",
    "import sqlalchemy as sql\n",
    "import sklearn.preprocessing as preprocessor\n",
    "import sklearn.metrics as metric\n",
    "import keras.models as model\n",
    "import keras.layers as layer\n",
    "import math\n",
    "from matplotlib import pyplot"
   ]
  },
  {
   "cell_type": "markdown",
   "metadata": {},
   "source": [
    "### Simulate stock prices"
   ]
  },
  {
   "cell_type": "code",
   "execution_count": 999,
   "metadata": {
    "collapsed": true
   },
   "outputs": [],
   "source": [
    "engine = sql.create_engine('postgresql://postgres@127.0.0.1:5432/data')\n",
    "x = pd.read_sql_query(\n",
    "    'select timestamp, close from route_paths',\n",
    "    con=engine,\n",
    "    index_col='timestamp',\n",
    "    parse_dates=['timestamp']\n",
    ")"
   ]
  },
  {
   "cell_type": "markdown",
   "metadata": {},
   "source": [
    "### Create features"
   ]
  },
  {
   "cell_type": "code",
   "execution_count": 1008,
   "metadata": {
    "collapsed": true
   },
   "outputs": [],
   "source": [
    "training_data = pd.DataFrame()\n",
    "# training_data['close/sma3'] = x['close'] / (x['close'].rolling(window=3).sum() / 3)\n",
    "# training_data['close/sma4'] = x['close'] / (x['close'].rolling(window=4).sum() / 4)\n",
    "# training_data['close/sma5'] = x['close'] / (x['close'].rolling(window=5).sum() / 5)\n",
    "# training_data['close/sma6'] = x['close'] / (x['close'].rolling(window=6).sum() / 6)\n",
    "training_data['close/sma7'] = x['close'] / (x['close'].rolling(window=7).sum() / 7)\n",
    "\n",
    "tmp_data = pd.DataFrame()\n",
    "tmp_data['sma14'] = x['close'].rolling(window=14).sum() / 14\n",
    "tmp_data['uband'] = tmp_data['sma14'] + (x['close'].rolling(window=14).std() * 2)\n",
    "tmp_data['lband'] = tmp_data['sma14'] - (x['close'].rolling(window=14).std() * 2)\n",
    "\n",
    "training_data['close/close-sma14'] = x['close'] / (x['close'] - tmp_data['sma14'])\n",
    "training_data['close/uband-close'] = x['close'] / (tmp_data['uband'] - x['close'])\n",
    "training_data['close/close-lband'] = x['close'] / (x['close'] - tmp_data['lband'])"
   ]
  },
  {
   "cell_type": "markdown",
   "metadata": {},
   "source": [
    "### Modeling"
   ]
  },
  {
   "cell_type": "code",
   "execution_count": 1009,
   "metadata": {
    "collapsed": true
   },
   "outputs": [],
   "source": [
    "prediction_period = 14\n",
    "training_start_index = 13\n",
    "\n",
    "train = training_data[training_start_index:-prediction_period]\n",
    "label = training_data[training_start_index + 1:-prediction_period + 1]\n",
    "\n",
    "test = training_data[-prediction_period - 1: -1]\n",
    "validate = x['close'][-prediction_period:]"
   ]
  },
  {
   "cell_type": "code",
   "execution_count": 1010,
   "metadata": {
    "collapsed": true
   },
   "outputs": [],
   "source": [
    "scaler = preprocessor.MinMaxScaler(feature_range=(-1, 1))\n",
    "\n",
    "scaler = scaler.fit(train)\n",
    "\n",
    "train_scaled = pd.DataFrame(scaler.transform(train), columns=train.columns)\n",
    "label_scaled = pd.DataFrame(scaler.transform(label), columns=label.columns)\n",
    "test_scaled = pd.DataFrame(scaler.transform(test), columns=test.columns)\n",
    "\n",
    "label_data = label_scaled.values\n",
    "train_data = train_scaled.values\n",
    "test_data = test_scaled.values"
   ]
  },
  {
   "cell_type": "code",
   "execution_count": 1011,
   "metadata": {},
   "outputs": [
    {
     "name": "stdout",
     "output_type": "stream",
     "text": [
      "Epoch 1/1\n",
      "366/366 [==============================] - 8s - loss: 0.0719     \n",
      "Epoch 1/1\n",
      "366/366 [==============================] - 2s - loss: 0.0339     \n",
      "Epoch 1/1\n",
      "366/366 [==============================] - 2s - loss: 0.0302     \n",
      "Epoch 1/1\n",
      "366/366 [==============================] - 2s - loss: 0.0298     \n",
      "Epoch 1/1\n",
      "366/366 [==============================] - 2s - loss: 0.0296     \n",
      "Epoch 1/1\n",
      "366/366 [==============================] - 3s - loss: 0.0295     \n",
      "Epoch 1/1\n",
      "366/366 [==============================] - 2s - loss: 0.0294     \n",
      "Epoch 1/1\n",
      "366/366 [==============================] - 3s - loss: 0.0294     \n",
      "Epoch 1/1\n",
      "366/366 [==============================] - 3s - loss: 0.0293     \n",
      "Epoch 1/1\n",
      "366/366 [==============================] - 3s - loss: 0.0293     \n",
      "Epoch 1/1\n",
      "366/366 [==============================] - 2s - loss: 0.0293     \n",
      "Epoch 1/1\n",
      "366/366 [==============================] - 2s - loss: 0.0293     \n",
      "Epoch 1/1\n",
      "366/366 [==============================] - 2s - loss: 0.0292     \n",
      "Epoch 1/1\n",
      "366/366 [==============================] - 3s - loss: 0.0292     \n",
      "Epoch 1/1\n",
      "366/366 [==============================] - 3s - loss: 0.0292     \n",
      "Epoch 1/1\n",
      "366/366 [==============================] - 2s - loss: 0.0292     \n",
      "Epoch 1/1\n",
      "366/366 [==============================] - 2s - loss: 0.0291     \n",
      "Epoch 1/1\n",
      "366/366 [==============================] - 3s - loss: 0.0291     \n",
      "Epoch 1/1\n",
      "366/366 [==============================] - 2s - loss: 0.0291     \n",
      "Epoch 1/1\n",
      "366/366 [==============================] - 3s - loss: 0.0291     \n",
      "Epoch 1/1\n",
      "366/366 [==============================] - 3s - loss: 0.0290     \n",
      "Epoch 1/1\n",
      "366/366 [==============================] - 2s - loss: 0.0290     \n",
      "Epoch 1/1\n",
      "366/366 [==============================] - 2s - loss: 0.0290     \n",
      "Epoch 1/1\n",
      "366/366 [==============================] - 2s - loss: 0.0289     \n",
      "Epoch 1/1\n",
      "366/366 [==============================] - 2s - loss: 0.0289     \n",
      "Epoch 1/1\n",
      "366/366 [==============================] - 3s - loss: 0.0288     \n",
      "Epoch 1/1\n",
      "366/366 [==============================] - 2s - loss: 0.0288     \n",
      "Epoch 1/1\n",
      "366/366 [==============================] - 2s - loss: 0.0287     \n",
      "Epoch 1/1\n",
      "366/366 [==============================] - 2s - loss: 0.0286     \n",
      "Epoch 1/1\n",
      "366/366 [==============================] - 2s - loss: 0.0285     \n",
      "Epoch 1/1\n",
      "366/366 [==============================] - 3s - loss: 0.0285     \n",
      "Epoch 1/1\n",
      "366/366 [==============================] - 3s - loss: 0.0284     \n",
      "Epoch 1/1\n",
      "366/366 [==============================] - 3s - loss: 0.0283     \n",
      "Epoch 1/1\n",
      "366/366 [==============================] - 3s - loss: 0.0282     \n",
      "Epoch 1/1\n",
      "366/366 [==============================] - 3s - loss: 0.0281     \n",
      "Epoch 1/1\n",
      "366/366 [==============================] - 3s - loss: 0.0280     \n",
      "Epoch 1/1\n",
      "366/366 [==============================] - 3s - loss: 0.0278     \n",
      "Epoch 1/1\n",
      "366/366 [==============================] - 2s - loss: 0.0277     \n",
      "Epoch 1/1\n",
      "366/366 [==============================] - 3s - loss: 0.0276     \n",
      "Epoch 1/1\n",
      "366/366 [==============================] - 2s - loss: 0.0275     \n",
      "Epoch 1/1\n",
      "366/366 [==============================] - 2s - loss: 0.0275     \n",
      "Epoch 1/1\n",
      "366/366 [==============================] - 3s - loss: 0.0274     \n",
      "Epoch 1/1\n",
      "366/366 [==============================] - 3s - loss: 0.0273     \n",
      "Epoch 1/1\n",
      "366/366 [==============================] - 3s - loss: 0.0273     \n",
      "Epoch 1/1\n",
      "366/366 [==============================] - 3s - loss: 0.0273     \n",
      "Epoch 1/1\n",
      "366/366 [==============================] - 3s - loss: 0.0272     \n",
      "Epoch 1/1\n",
      "366/366 [==============================] - 2s - loss: 0.0272     \n",
      "Epoch 1/1\n",
      "366/366 [==============================] - 2s - loss: 0.0272     \n",
      "Epoch 1/1\n",
      "366/366 [==============================] - 3s - loss: 0.0272     \n",
      "Epoch 1/1\n",
      "366/366 [==============================] - 3s - loss: 0.0271     \n"
     ]
    }
   ],
   "source": [
    "def fit_lstm(x, y, batch_size, epoch, neurons):    \n",
    "    x = x.reshape(x.shape[0], 1, x.shape[1])\n",
    "    \n",
    "    sequential_model = model.Sequential()\n",
    "    sequential_model.add(\n",
    "        layer.LSTM(neurons,\n",
    "                   batch_input_shape=(1, x.shape[1], x.shape[2]),\n",
    "                   stateful=True)\n",
    "    )\n",
    "    sequential_model.add(\n",
    "        layer.Dense(y.shape[1])\n",
    "    )\n",
    "    sequential_model.compile(loss='mean_squared_error', optimizer='adam')\n",
    "    for i in range(epoch):\n",
    "        sequential_model.fit(\n",
    "            x,\n",
    "            y,\n",
    "            epochs=1,\n",
    "            batch_size=batch_size,\n",
    "            verbose=1,\n",
    "            shuffle=False\n",
    "        )\n",
    "        sequential_model.reset_states()\n",
    "    return sequential_model\n",
    "\n",
    "lstm_model = fit_lstm(train_data, label_data, 1, 50, 1)"
   ]
  },
  {
   "cell_type": "code",
   "execution_count": 1012,
   "metadata": {},
   "outputs": [
    {
     "name": "stdout",
     "output_type": "stream",
     "text": [
      "day = 1, predicted = 9679.228939, expected = 8521.000000\n",
      "day = 2, predicted = 9362.976935, expected = 8580.000000\n",
      "day = 3, predicted = 9073.259427, expected = 7750.000000\n",
      "day = 4, predicted = 8581.300108, expected = 7000.000000\n",
      "day = 5, predicted = 7868.673688, expected = 7180.000000\n",
      "day = 6, predicted = 7323.047770, expected = 7090.000000\n",
      "day = 7, predicted = 7065.507550, expected = 6600.000000\n",
      "day = 8, predicted = 6877.426290, expected = 6117.000000\n",
      "day = 9, predicted = 6464.720315, expected = 5390.000000\n",
      "day = 10, predicted = 5828.510014, expected = 5813.000000\n",
      "day = 11, predicted = 5579.592782, expected = 7000.000000\n",
      "day = 12, predicted = 5987.165242, expected = 7798.000000\n",
      "day = 13, predicted = 6962.108863, expected = 7306.000000\n",
      "day = 14, predicted = 7563.355545, expected = 7280.000000\n"
     ]
    }
   ],
   "source": [
    "predictions = validate.copy()\n",
    "\n",
    "sma3 = x['close'].rolling(window=3).sum() / 3\n",
    "\n",
    "for i in range(test_data.shape[0]):\n",
    "    forecasting_value = lstm_model.predict(\n",
    "        test_data[i, :].reshape(1, 1, test_data.shape[1]),\n",
    "        batch_size=1\n",
    "    )\n",
    "    inversed_forecast = scaler.inverse_transform(forecasting_value.reshape(1, test_data.shape[1]))[0]\n",
    "    inversed_forecast = inversed_forecast[0] * sma3[-prediction_period + i - 1]\n",
    "    predictions[i] = inversed_forecast\n",
    "    expected = validate[i]\n",
    "    print(\"day = %d, predicted = %f, expected = %f\" % (i + 1, inversed_forecast, expected))"
   ]
  },
  {
   "cell_type": "code",
   "execution_count": 1013,
   "metadata": {},
   "outputs": [
    {
     "data": {
      "text/plain": [
       "1006.4114400046262"
      ]
     },
     "execution_count": 1013,
     "metadata": {},
     "output_type": "execute_result"
    }
   ],
   "source": [
    "rmse = math.sqrt(\n",
    "    metric.mean_squared_error(\n",
    "        validate.values,\n",
    "        predictions.values\n",
    "    )\n",
    ")\n",
    "rmse"
   ]
  },
  {
   "cell_type": "code",
   "execution_count": 1014,
   "metadata": {},
   "outputs": [
    {
     "data": {
      "image/png": "[encoded data removed]",
      "text/plain": [
       "<matplotlib.figure.Figure at 0x13c5e5668>"
      ]
     },
     "metadata": {},
     "output_type": "display_data"
    }
   ],
   "source": [
    "validate_data_frame = pd.DataFrame(validate)\n",
    "validate_data_frame['predict'] = predictions\n",
    "validate_data_frame.plot()\n",
    "pyplot.show()"
   ]
  },
  {
   "cell_type": "code",
   "execution_count": null,
   "metadata": {
    "collapsed": true
   },
   "outputs": [],
   "source": []
  }
 ],
 "metadata": {
  "kernelspec": {
   "display_name": "Python 3",
   "language": "python",
   "name": "python3"
  },
  "language_info": {
   "codemirror_mode": {
    "name": "ipython",
    "version": 3
   },
   "file_extension": ".py",
   "mimetype": "text/x-python",
   "name": "python",
   "nbconvert_exporter": "python",
   "pygments_lexer": "ipython3",
   "version": "3.6.1"
  }
 },
 "nbformat": 4,
 "nbformat_minor": 2
}
