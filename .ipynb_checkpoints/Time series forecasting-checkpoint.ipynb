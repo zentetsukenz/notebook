{
 "cells": [
  {
   "cell_type": "code",
   "execution_count": 56,
   "metadata": {
    "collapsed": true
   },
   "outputs": [],
   "source": [
    "from pandas import DataFrame\n",
    "from pandas import Series\n",
    "from pandas import concat\n",
    "from pandas import read_csv\n",
    "from pandas import datetime\n",
    "from sklearn.metrics import mean_squared_error\n",
    "from sklearn.preprocessing import MinMaxScaler\n",
    "from keras.models import Sequential\n",
    "from keras.layers import Dense\n",
    "from keras.layers import LSTM\n",
    "from math import sqrt\n",
    "from matplotlib import pyplot\n",
    "import numpy"
   ]
  },
  {
   "cell_type": "markdown",
   "metadata": {},
   "source": [
    "### Load data"
   ]
  },
  {
   "cell_type": "code",
   "execution_count": 57,
   "metadata": {},
   "outputs": [
    {
     "name": "stdout",
     "output_type": "stream",
     "text": [
      "timestamp\n",
      "2016-06-24    500.00\n",
      "2016-06-25    499.01\n",
      "2016-06-26    499.00\n",
      "2016-06-27    463.02\n",
      "2016-06-28    480.00\n",
      "Name: close, dtype: float64\n"
     ]
    }
   ],
   "source": [
    "def parser(timestamps):\n",
    "    result = []\n",
    "    for timestamp in timestamps:\n",
    "        parsed_date = to_datetime(timestamp, format='%Y-%m-%d')\n",
    "        result.append(parsed_date)\n",
    "    return result"
   ]
  },
  {
   "cell_type": "code",
   "execution_count": 58,
   "metadata": {},
   "outputs": [
    {
     "data": {
      "image/png": "[encoded data removed]",
      "text/plain": [
       "<matplotlib.figure.Figure at 0x110c34400>"
      ]
     },
     "metadata": {},
     "output_type": "display_data"
    }
   ],
   "source": [
    "series.plot()\n",
    "pyplot.show()"
   ]
  },
  {
   "cell_type": "markdown",
   "metadata": {},
   "source": [
    "### Preparing data"
   ]
  },
  {
   "cell_type": "code",
   "execution_count": 48,
   "metadata": {},
   "outputs": [
    {
     "name": "stdout",
     "output_type": "stream",
     "text": [
      "[ 11600.99  11275.99  11110.     8888.     8620.01]\n",
      "[ 10355.  10787.  10400.   9800.   9399.]\n"
     ]
    }
   ],
   "source": [
    "# split data into train and test\n",
    "X = series.values\n",
    "train, test = X[0:-12], X[-12:]\n",
    "\n",
    "print(train[-5:])\n",
    "print(test[:5])"
   ]
  },
  {
   "cell_type": "markdown",
   "metadata": {},
   "source": [
    "#### Transform series to supervised learning"
   ]
  },
  {
   "cell_type": "code",
   "execution_count": 49,
   "metadata": {
    "collapsed": true
   },
   "outputs": [],
   "source": [
    "# frame a sequence as a supervised learning problem\n",
    "def timeseries_to_supervised(data, lag=1):\n",
    "    df = DataFrame(data)\n",
    "    columns = [df.shift(i) for i in range(1, lag+1)]\n",
    "    columns.append(df)\n",
    "    df = concat(columns, axis=1)\n",
    "    df.fillna(0, inplace=True)\n",
    "    return df"
   ]
  },
  {
   "cell_type": "markdown",
   "metadata": {},
   "source": [
    "#### Transform series to stationary"
   ]
  },
  {
   "cell_type": "code",
   "execution_count": 6,
   "metadata": {
    "collapsed": true
   },
   "outputs": [],
   "source": [
    "# create a differenced series\n",
    "def difference(dataset, interval=1):\n",
    "    diff = list()\n",
    "    for i in range(interval, len(dataset)):\n",
    "        value = dataset[i] - dataset[i - interval]\n",
    "        diff.append(value)\n",
    "    return Series(diff)"
   ]
  },
  {
   "cell_type": "code",
   "execution_count": 50,
   "metadata": {
    "collapsed": true
   },
   "outputs": [],
   "source": [
    "# invert differenced value\n",
    "def inverse_difference(history, yhat, interval=1):\n",
    "    return yhat + history[-interval]"
   ]
  },
  {
   "cell_type": "code",
   "execution_count": 71,
   "metadata": {},
   "outputs": [
    {
     "name": "stdout",
     "output_type": "stream",
     "text": [
      "timestamp\n",
      "2016-06-24    500.00\n",
      "2016-06-25    499.01\n",
      "2016-06-26    499.00\n",
      "2016-06-27    463.02\n",
      "2016-06-28    480.00\n",
      "Name: close, dtype: float64\n",
      "0    -0.99\n",
      "1    -0.01\n",
      "2   -35.98\n",
      "3    16.98\n",
      "4   -52.64\n",
      "dtype: float64\n",
      "0    499.01\n",
      "1    499.00\n",
      "2    463.02\n",
      "3    480.00\n",
      "4    427.36\n",
      "dtype: float64\n"
     ]
    }
   ],
   "source": [
    "# Test difference function\n",
    "print(series.head())\n",
    "\n",
    "_test_differenced = difference(series, 1)\n",
    "print(_test_differenced.head())\n",
    "\n",
    "# invert transform\n",
    "_inverted = list()\n",
    "for i in range(len(_test_differenced)):\n",
    "    value = inverse_difference(series, _test_differenced[i], len(series)-i)\n",
    "    _inverted.append(value)\n",
    "_inverted = Series(_inverted)\n",
    "print(_inverted.head())"
   ]
  },
  {
   "cell_type": "markdown",
   "metadata": {},
   "source": [
    "#### Transform series to scale"
   ]
  },
  {
   "cell_type": "code",
   "execution_count": 60,
   "metadata": {
    "collapsed": true
   },
   "outputs": [],
   "source": [
    "# scale train and test data to [-1, 1]\n",
    "def scale(train, test):\n",
    "    # fit scaler\n",
    "    scaler = MinMaxScaler(feature_range=(-1, 1))\n",
    "    scaler = scaler.fit(train)\n",
    "\n",
    "    # transform train\n",
    "    train = train.reshape(train.shape[0], train.shape[1])\n",
    "    train_scaled = scaler.transform(train)\n",
    "\n",
    "    # transform test\n",
    "    test = test.reshape(test.shape[0], test.shape[1])\n",
    "    test_scaled = scaler.transform(test)\n",
    "\n",
    "    return scaler, train_scaled, test_scaled"
   ]
  },
  {
   "cell_type": "code",
   "execution_count": 61,
   "metadata": {
    "collapsed": true
   },
   "outputs": [],
   "source": [
    "# inverse scaling for a forecasted value\n",
    "def invert_scale(scaler, X, value):\n",
    "    new_row = [x for x in X] + [value]\n",
    "    array = numpy.array(new_row)\n",
    "    array = array.reshape(1, len(array))\n",
    "    inverted = scaler.inverse_transform(array)\n",
    "\n",
    "    return inverted[0, -1]"
   ]
  },
  {
   "cell_type": "code",
   "execution_count": 69,
   "metadata": {},
   "outputs": [
    {
     "name": "stdout",
     "output_type": "stream",
     "text": [
      "0   -0.962281\n",
      "1   -0.962433\n",
      "2   -0.962434\n",
      "3   -0.967929\n",
      "4   -0.965336\n",
      "dtype: float64\n",
      "0    0.542643\n",
      "1    0.608613\n",
      "2    0.549515\n",
      "3    0.457891\n",
      "4    0.396656\n",
      "dtype: float64\n"
     ]
    }
   ],
   "source": [
    "# Test scale function\n",
    "_test_train_data = train.reshape(len(train), 1)\n",
    "_test_test_data = test.reshape(len(test), 1)\n",
    "_, _train_scaled, _test_scaled = scale(_test_train_data, _test_test_data)\n",
    "_train_scaled_series = Series(_train_scaled[:, 0])\n",
    "_test_scaled_series = Series(_test_scaled[:, 0])\n",
    "print(_train_scaled_series.head())\n",
    "print(_test_scaled_series.head())"
   ]
  },
  {
   "cell_type": "markdown",
   "metadata": {},
   "source": [
    "### LSTM Modeling"
   ]
  },
  {
   "cell_type": "code",
   "execution_count": 55,
   "metadata": {},
   "outputs": [],
   "source": [
    "def fit_lstm(train, batch_size, nb_epoch, neurons):\n",
    "    X, y = train[:, 0:-1], train[:, -1]\n",
    "    X = X.reshape(X.shape[0], 1, X.shape[1])\n",
    "    model = Sequential()\n",
    "    model.add(LSTM(neurons, batch_input_shape=(batch_size, X.shape[1], X.shape[2]), stateful=True))\n",
    "    model.add(Dense(1))\n",
    "    model.compile(loss='mean_squared_error', optimizer='adam')\n",
    "    for i in range(nb_epoch):\n",
    "        model.fit(X, y, epochs=1, batch_size=batch_size, verbose=0, shuffle=False)\n",
    "        model.reset_states()\n",
    "    return model"
   ]
  },
  {
   "cell_type": "markdown",
   "metadata": {},
   "source": [
    "### Prediction"
   ]
  },
  {
   "cell_type": "code",
   "execution_count": 104,
   "metadata": {
    "collapsed": true
   },
   "outputs": [],
   "source": [
    "def forecast_lstm(model, batch_size, X):\n",
    "    X = X.reshape(1, 1, len(X))\n",
    "    yhat = model.predict(X, batch_size=batch_size)\n",
    "    return yhat[0,0]"
   ]
  },
  {
   "cell_type": "markdown",
   "metadata": {},
   "source": [
    "### Execution starts here"
   ]
  },
  {
   "cell_type": "markdown",
   "metadata": {},
   "source": [
    "#### Loading data"
   ]
  },
  {
   "cell_type": "code",
   "execution_count": 109,
   "metadata": {},
   "outputs": [
    {
     "name": "stdout",
     "output_type": "stream",
     "text": [
      "timestamp\n",
      "2016-06-24    500.00\n",
      "2016-06-25    499.01\n",
      "2016-06-26    499.00\n",
      "2016-06-27    463.02\n",
      "2016-06-28    480.00\n",
      "Name: close, dtype: float64\n"
     ]
    }
   ],
   "source": [
    "series = read_csv('eth_data.csv',\n",
    "                  header=0,\n",
    "                  index_col='timestamp',\n",
    "                  usecols=['timestamp', 'close'],\n",
    "                  squeeze=True,\n",
    "                  parse_dates=['timestamp'],\n",
    "                  date_parser=parser)\n",
    "\n",
    "print(series.head())"
   ]
  },
  {
   "cell_type": "markdown",
   "metadata": {},
   "source": [
    "#### Transform data to be stationary"
   ]
  },
  {
   "cell_type": "code",
   "execution_count": 110,
   "metadata": {},
   "outputs": [
    {
     "name": "stdout",
     "output_type": "stream",
     "text": [
      "[ 500.    499.01  499.    463.02  480.  ]\n",
      "0    -0.99\n",
      "1    -0.01\n",
      "2   -35.98\n",
      "3    16.98\n",
      "4   -52.64\n",
      "dtype: float64\n"
     ]
    }
   ],
   "source": [
    "raw_values = series.values\n",
    "diff_values = difference(raw_values, 1)\n",
    "\n",
    "print(raw_values[:5])\n",
    "print(diff_values[:5])"
   ]
  },
  {
   "cell_type": "markdown",
   "metadata": {},
   "source": [
    "#### Transform data to be supervised learning"
   ]
  },
  {
   "cell_type": "code",
   "execution_count": 111,
   "metadata": {},
   "outputs": [
    {
     "name": "stdout",
     "output_type": "stream",
     "text": [
      "       0      0\n",
      "0   0.00  -0.99\n",
      "1  -0.99  -0.01\n",
      "2  -0.01 -35.98\n",
      "3 -35.98  16.98\n",
      "4  16.98 -52.64\n",
      "[[  0.00000000e+00  -9.90000000e-01]\n",
      " [ -9.90000000e-01  -1.00000000e-02]\n",
      " [ -1.00000000e-02  -3.59800000e+01]\n",
      " [ -3.59800000e+01   1.69800000e+01]\n",
      " [  1.69800000e+01  -5.26400000e+01]]\n"
     ]
    }
   ],
   "source": [
    "supervised = timeseries_to_supervised(diff_values, 1)\n",
    "supervised_values = supervised.values\n",
    "\n",
    "print(supervised.head())\n",
    "print(supervised_values[:5])"
   ]
  },
  {
   "cell_type": "markdown",
   "metadata": {},
   "source": [
    "#### Split data into train and test"
   ]
  },
  {
   "cell_type": "code",
   "execution_count": 120,
   "metadata": {},
   "outputs": [
    {
     "name": "stdout",
     "output_type": "stream",
     "text": [
      "[[  0.00000000e+00  -9.90000000e-01]\n",
      " [ -9.90000000e-01  -1.00000000e-02]\n",
      " [ -1.00000000e-02  -3.59800000e+01]\n",
      " [ -3.59800000e+01   1.69800000e+01]\n",
      " [  1.69800000e+01  -5.26400000e+01]]\n",
      "[[-4096.     150.01]\n",
      " [  150.01  2929.99]\n",
      " [ 2929.99   390.  ]\n",
      " [  390.     428.99]\n",
      " [  428.99   738.01]]\n"
     ]
    }
   ],
   "source": [
    "train, test = supervised_values[0:-45], supervised_values[-45:]\n",
    "\n",
    "print(train[:5])\n",
    "print(test[:5])"
   ]
  },
  {
   "cell_type": "markdown",
   "metadata": {},
   "source": [
    "#### Transform the scale of the data"
   ]
  },
  {
   "cell_type": "code",
   "execution_count": 121,
   "metadata": {},
   "outputs": [
    {
     "name": "stdout",
     "output_type": "stream",
     "text": [
      "MinMaxScaler(copy=True, feature_range=(-1, 1))\n",
      "[[-0.01631827 -0.01654189]\n",
      " [-0.01654189 -0.01632053]\n",
      " [-0.01632053 -0.02444522]\n",
      " [-0.02444522 -0.01248293]\n",
      " [-0.01248293 -0.02820829]]\n",
      "[[-0.94149861  0.0175651 ]\n",
      " [ 0.0175651   0.64549059]\n",
      " [ 0.64549059  0.07177263]\n",
      " [ 0.07177263  0.08057946]\n",
      " [ 0.08057946  0.15037907]]\n"
     ]
    }
   ],
   "source": [
    "scaler, train_scaled, test_scaled = scale(train, test)\n",
    "\n",
    "print(scaler)\n",
    "print(train_scaled[:5])\n",
    "print(test_scaled[:5])"
   ]
  },
  {
   "cell_type": "markdown",
   "metadata": {},
   "source": [
    "#### Fit the model"
   ]
  },
  {
   "cell_type": "code",
   "execution_count": null,
   "metadata": {},
   "outputs": [],
   "source": [
    "lstm_model = fit_lstm(train_scaled, 1, 1000, 4)"
   ]
  },
  {
   "cell_type": "markdown",
   "metadata": {},
   "source": [
    "#### Forecast the training dataset"
   ]
  },
  {
   "cell_type": "code",
   "execution_count": 123,
   "metadata": {},
   "outputs": [
    {
     "data": {
      "text/plain": [
       "array([[-0.09171905],\n",
       "       [-0.07958676],\n",
       "       [-0.05999038],\n",
       "       [-0.0304222 ],\n",
       "       [-0.0247549 ],\n",
       "       [ 0.0093246 ],\n",
       "       [ 0.00837041],\n",
       "       [ 0.02158089],\n",
       "       [ 0.02636485],\n",
       "       [ 0.03976168],\n",
       "       [ 0.04490091],\n",
       "       [ 0.06159328],\n",
       "       [ 0.05448641],\n",
       "       [ 0.07353188],\n",
       "       [ 0.06285681],\n",
       "       [ 0.06736441],\n",
       "       [ 0.06804861],\n",
       "       [ 0.06657948],\n",
       "       [ 0.07395269],\n",
       "       [ 0.0612234 ],\n",
       "       [ 0.08185585],\n",
       "       [ 0.07161005],\n",
       "       [ 0.07477708],\n",
       "       [ 0.06700708],\n",
       "       [ 0.08251615],\n",
       "       [ 0.07423498],\n",
       "       [ 0.06795307],\n",
       "       [ 0.07112099],\n",
       "       [ 0.07513304],\n",
       "       [ 0.05528422],\n",
       "       [ 0.08524139],\n",
       "       [ 0.06753601],\n",
       "       [ 0.09034748],\n",
       "       [ 0.07458557],\n",
       "       [ 0.08343567],\n",
       "       [ 0.07411309],\n",
       "       [ 0.07936473],\n",
       "       [ 0.08199729],\n",
       "       [ 0.07877435],\n",
       "       [ 0.0842355 ],\n",
       "       [ 0.0747325 ],\n",
       "       [ 0.06810077],\n",
       "       [ 0.07905526],\n",
       "       [ 0.08277066],\n",
       "       [ 0.07387085],\n",
       "       [ 0.07586814],\n",
       "       [ 0.06555088],\n",
       "       [ 0.08187307],\n",
       "       [ 0.07278539],\n",
       "       [ 0.07602544],\n",
       "       [ 0.07481565],\n",
       "       [ 0.07213427],\n",
       "       [ 0.07977249],\n",
       "       [ 0.0745687 ],\n",
       "       [ 0.0754859 ],\n",
       "       [ 0.07707305],\n",
       "       [ 0.07923611],\n",
       "       [ 0.07481791],\n",
       "       [ 0.07660659],\n",
       "       [ 0.07538666],\n",
       "       [ 0.07574804],\n",
       "       [ 0.07660259],\n",
       "       [ 0.0772958 ],\n",
       "       [ 0.07384612],\n",
       "       [ 0.07520451],\n",
       "       [ 0.07682784],\n",
       "       [ 0.07450314],\n",
       "       [ 0.07616659],\n",
       "       [ 0.07504149],\n",
       "       [ 0.06642856],\n",
       "       [ 0.07948495],\n",
       "       [ 0.07727714],\n",
       "       [ 0.07967426],\n",
       "       [ 0.07066138],\n",
       "       [ 0.08161302],\n",
       "       [ 0.07093455],\n",
       "       [ 0.08032019],\n",
       "       [ 0.07402845],\n",
       "       [ 0.07668544],\n",
       "       [ 0.07276781],\n",
       "       [ 0.07812293],\n",
       "       [ 0.06913902],\n",
       "       [ 0.08082075],\n",
       "       [ 0.07527782],\n",
       "       [ 0.07489337],\n",
       "       [ 0.0749525 ],\n",
       "       [ 0.06625725],\n",
       "       [ 0.07835235],\n",
       "       [ 0.06993021],\n",
       "       [ 0.07265933],\n",
       "       [ 0.08249696],\n",
       "       [ 0.07362862],\n",
       "       [ 0.07932796],\n",
       "       [ 0.07619937],\n",
       "       [ 0.07705845],\n",
       "       [ 0.07537062],\n",
       "       [ 0.0764087 ],\n",
       "       [ 0.07731028],\n",
       "       [ 0.06981094],\n",
       "       [ 0.07997419],\n",
       "       [ 0.07630028],\n",
       "       [ 0.07692154],\n",
       "       [ 0.0695755 ],\n",
       "       [ 0.07892038],\n",
       "       [ 0.07863195],\n",
       "       [ 0.08169456],\n",
       "       [ 0.07589026],\n",
       "       [ 0.07771893],\n",
       "       [ 0.077783  ],\n",
       "       [ 0.07631482],\n",
       "       [ 0.07414712],\n",
       "       [ 0.07353963],\n",
       "       [ 0.07546999],\n",
       "       [ 0.07667674],\n",
       "       [ 0.07569553],\n",
       "       [ 0.07522316],\n",
       "       [ 0.07018788],\n",
       "       [ 0.0804403 ],\n",
       "       [ 0.07629855],\n",
       "       [ 0.07489862],\n",
       "       [ 0.07881434],\n",
       "       [ 0.07535507],\n",
       "       [ 0.07619049],\n",
       "       [ 0.08006765],\n",
       "       [ 0.07458569],\n",
       "       [ 0.07633121],\n",
       "       [ 0.0739062 ],\n",
       "       [ 0.08206667],\n",
       "       [ 0.07509239],\n",
       "       [ 0.07437111],\n",
       "       [ 0.08253928],\n",
       "       [ 0.07005031],\n",
       "       [ 0.07662596],\n",
       "       [ 0.07848306],\n",
       "       [ 0.07183512],\n",
       "       [ 0.0785851 ],\n",
       "       [ 0.07603158],\n",
       "       [ 0.07703085],\n",
       "       [ 0.07467456],\n",
       "       [ 0.07710905],\n",
       "       [ 0.07507981],\n",
       "       [ 0.07742353],\n",
       "       [ 0.07624801],\n",
       "       [ 0.07864149],\n",
       "       [ 0.07075085],\n",
       "       [ 0.07677962],\n",
       "       [ 0.07953437],\n",
       "       [ 0.07591541],\n",
       "       [ 0.0816216 ],\n",
       "       [ 0.06996883],\n",
       "       [ 0.08628638],\n",
       "       [ 0.06610151],\n",
       "       [ 0.08143349],\n",
       "       [ 0.06778248],\n",
       "       [ 0.08562084],\n",
       "       [ 0.06084092],\n",
       "       [ 0.09683342],\n",
       "       [ 0.05765225],\n",
       "       [ 0.09301908],\n",
       "       [ 0.06083389],\n",
       "       [ 0.09108384],\n",
       "       [ 0.05990405],\n",
       "       [ 0.0776455 ],\n",
       "       [ 0.07402845],\n",
       "       [ 0.08840062],\n",
       "       [ 0.07614304],\n",
       "       [ 0.07735522],\n",
       "       [ 0.06982507],\n",
       "       [ 0.0729977 ],\n",
       "       [ 0.07958801],\n",
       "       [ 0.07737996],\n",
       "       [ 0.07516696],\n",
       "       [ 0.07478191],\n",
       "       [ 0.07775952],\n",
       "       [ 0.07696964],\n",
       "       [ 0.07584722],\n",
       "       [ 0.08015205],\n",
       "       [ 0.07249917],\n",
       "       [ 0.07537366],\n",
       "       [ 0.0763851 ],\n",
       "       [ 0.07520349],\n",
       "       [ 0.07570548],\n",
       "       [ 0.07686003],\n",
       "       [ 0.07810725],\n",
       "       [ 0.07645352],\n",
       "       [ 0.07723983],\n",
       "       [ 0.0767708 ],\n",
       "       [ 0.0740567 ],\n",
       "       [ 0.06557871],\n",
       "       [ 0.08123954],\n",
       "       [ 0.07281055],\n",
       "       [ 0.07271941],\n",
       "       [ 0.0768903 ],\n",
       "       [ 0.07127763],\n",
       "       [ 0.05610593],\n",
       "       [ 0.0780917 ],\n",
       "       [ 0.07983537],\n",
       "       [ 0.07334818],\n",
       "       [ 0.07898672],\n",
       "       [ 0.06636681],\n",
       "       [ 0.08460058],\n",
       "       [ 0.07869203],\n",
       "       [ 0.08132507],\n",
       "       [ 0.0794092 ],\n",
       "       [ 0.07734849],\n",
       "       [ 0.07559915],\n",
       "       [ 0.07744123],\n",
       "       [ 0.0746382 ],\n",
       "       [ 0.07344724],\n",
       "       [ 0.07563074],\n",
       "       [ 0.06942357],\n",
       "       [ 0.07723387],\n",
       "       [ 0.07568385],\n",
       "       [ 0.07555921],\n",
       "       [ 0.07487006],\n",
       "       [ 0.07667919],\n",
       "       [ 0.07583822],\n",
       "       [ 0.07488532],\n",
       "       [ 0.07736863],\n",
       "       [ 0.07644875],\n",
       "       [ 0.07554115],\n",
       "       [ 0.07613833],\n",
       "       [ 0.07645424],\n",
       "       [ 0.07594986],\n",
       "       [ 0.07500388],\n",
       "       [ 0.07246138],\n",
       "       [ 0.07449175],\n",
       "       [ 0.06850632],\n",
       "       [ 0.08257832],\n",
       "       [ 0.07569022],\n",
       "       [ 0.07746442],\n",
       "       [ 0.0767165 ],\n",
       "       [ 0.07479854],\n",
       "       [ 0.07453157],\n",
       "       [ 0.06996991],\n",
       "       [ 0.08345814],\n",
       "       [ 0.06496842],\n",
       "       [ 0.07584412],\n",
       "       [ 0.07433613],\n",
       "       [ 0.07678623],\n",
       "       [ 0.07140769],\n",
       "       [ 0.08158727],\n",
       "       [ 0.06721528],\n",
       "       [ 0.0863625 ],\n",
       "       [ 0.05977841],\n",
       "       [ 0.09253033],\n",
       "       [ 0.04476966],\n",
       "       [ 0.10952334],\n",
       "       [ 0.07048406],\n",
       "       [ 0.0808592 ],\n",
       "       [ 0.04634495],\n",
       "       [ 0.05477907],\n",
       "       [ 0.06638034],\n",
       "       [ 0.07132138],\n",
       "       [ 0.08132745],\n",
       "       [ 0.0673259 ],\n",
       "       [ 0.08167185],\n",
       "       [ 0.09116741],\n",
       "       [ 0.07477625],\n",
       "       [ 0.0810885 ],\n",
       "       [ 0.06130661],\n",
       "       [ 0.06054612],\n",
       "       [-0.0103039 ],\n",
       "       [ 0.10896192],\n",
       "       [ 0.04635389],\n",
       "       [-0.00977831],\n",
       "       [ 0.00466217],\n",
       "       [ 0.15929814],\n",
       "       [ 0.05107863],\n",
       "       [ 0.04251648],\n",
       "       [ 0.10313047],\n",
       "       [ 0.10524966],\n",
       "       [ 0.07266445],\n",
       "       [ 0.03731193],\n",
       "       [ 0.04845746],\n",
       "       [ 0.09633781],\n",
       "       [ 0.06607284],\n",
       "       [ 0.09973939],\n",
       "       [ 0.06354387],\n",
       "       [ 0.07050373],\n",
       "       [ 0.10287632],\n",
       "       [ 0.07324506],\n",
       "       [ 0.08646668],\n",
       "       [ 0.11602522],\n",
       "       [ 0.08740963],\n",
       "       [ 0.06917585],\n",
       "       [ 0.08887793],\n",
       "       [ 0.1019661 ],\n",
       "       [ 0.06171079],\n",
       "       [ 0.08924307],\n",
       "       [ 0.0791765 ],\n",
       "       [ 0.07025076],\n",
       "       [ 0.0747142 ],\n",
       "       [ 0.01515307],\n",
       "       [ 0.10059769],\n",
       "       [ 0.05876435],\n",
       "       [ 0.07356854],\n",
       "       [ 0.07132788],\n",
       "       [ 0.07074465],\n",
       "       [ 0.07169588],\n",
       "       [ 0.08662058],\n",
       "       [ 0.07232918],\n",
       "       [ 0.08703966],\n",
       "       [ 0.07822324],\n",
       "       [ 0.06325074],\n",
       "       [ 0.07963647],\n",
       "       [ 0.05395021],\n",
       "       [ 0.03321822],\n",
       "       [-0.00486235],\n",
       "       [ 0.04908772],\n",
       "       [ 0.03167994],\n",
       "       [ 0.01191939],\n",
       "       [ 0.10236813],\n",
       "       [ 0.0539275 ],\n",
       "       [ 0.00498779],\n",
       "       [ 0.06953348],\n",
       "       [ 0.04298438],\n",
       "       [ 0.0651985 ],\n",
       "       [ 0.12135382],\n",
       "       [ 0.10235508],\n",
       "       [-0.19628464],\n",
       "       [ 0.36194813],\n",
       "       [-0.29020393],\n",
       "       [ 0.42802078],\n",
       "       [-0.41678131],\n",
       "       [ 0.52026635],\n",
       "       [-0.72764623],\n",
       "       [ 0.80929494],\n",
       "       [-0.79098463],\n",
       "       [ 0.82860446],\n",
       "       [-0.98461848],\n",
       "       [ 0.97542733],\n",
       "       [-0.90576524],\n",
       "       [ 0.9235099 ],\n",
       "       [-0.89958322]], dtype=float32)"
      ]
     },
     "execution_count": 123,
     "metadata": {},
     "output_type": "execute_result"
    }
   ],
   "source": [
    "train_reshaped = train_scaled[:, 0].reshape(len(train_scaled), 1, 1)\n",
    "lstm_model.predict(train_reshaped, batch_size=1)"
   ]
  },
  {
   "cell_type": "markdown",
   "metadata": {},
   "source": [
    "#### Walk-forward validation on the test data"
   ]
  },
  {
   "cell_type": "code",
   "execution_count": 125,
   "metadata": {},
   "outputs": [
    {
     "name": "stdout",
     "output_type": "stream",
     "text": [
      "day=1, Predicted=6927.237982, Expected=3250.010000\n",
      "day=2, Predicted=3372.769922, Expected=6180.000000\n",
      "day=3, Predicted=3752.647055, Expected=6570.000000\n",
      "day=4, Predicted=6616.379648, Expected=6998.990000\n",
      "day=5, Predicted=6453.790511, Expected=7737.000000\n",
      "day=6, Predicted=7055.969596, Expected=8450.970000\n",
      "day=7, Predicted=7835.112042, Expected=8200.000000\n",
      "day=8, Predicted=8778.284371, Expected=8110.000000\n",
      "day=9, Predicted=8522.191197, Expected=8050.000000\n",
      "day=10, Predicted=8592.409951, Expected=8605.000000\n",
      "day=11, Predicted=8474.151478, Expected=8699.900000\n",
      "day=12, Predicted=9154.280502, Expected=8970.000000\n",
      "day=13, Predicted=9116.064078, Expected=9130.000000\n",
      "day=14, Predicted=9470.481676, Expected=8751.000000\n",
      "day=15, Predicted=9642.595334, Expected=9005.000000\n",
      "day=16, Predicted=9187.309915, Expected=10398.000000\n",
      "day=17, Predicted=9371.602488, Expected=11240.000000\n",
      "day=18, Predicted=10818.395503, Expected=12522.000000\n",
      "day=19, Predicted=11326.139445, Expected=13350.000000\n",
      "day=20, Predicted=12805.570921, Expected=12950.000000\n",
      "day=21, Predicted=13790.495182, Expected=12078.990000\n",
      "day=22, Predicted=13407.353080, Expected=12620.000000\n",
      "day=23, Predicted=12590.707640, Expected=12801.000000\n",
      "day=24, Predicted=13383.286045, Expected=12951.000000\n",
      "day=25, Predicted=13371.656872, Expected=12833.990000\n",
      "day=26, Predicted=13568.875360, Expected=12800.010000\n",
      "day=27, Predicted=13395.451209, Expected=12424.000000\n",
      "day=28, Predicted=13403.440724, Expected=11972.000000\n",
      "day=29, Predicted=12966.210859, Expected=11600.990000\n",
      "day=30, Predicted=12536.141955, Expected=11275.990000\n",
      "day=31, Predicted=12170.716454, Expected=11110.000000\n",
      "day=32, Predicted=11828.599737, Expected=8888.000000\n",
      "day=33, Predicted=11465.062578, Expected=8620.010000\n",
      "day=34, Predicted=9237.545983, Expected=10355.000000\n",
      "day=35, Predicted=9212.219785, Expected=10787.000000\n",
      "day=36, Predicted=10912.379239, Expected=10400.000000\n",
      "day=37, Predicted=11030.653939, Expected=9800.000000\n",
      "day=38, Predicted=10701.644974, Expected=9399.000000\n",
      "day=39, Predicted=10160.889835, Expected=9876.550000\n",
      "day=40, Predicted=9743.578000, Expected=9300.010000\n",
      "day=41, Predicted=10365.056131, Expected=9045.000000\n",
      "day=42, Predicted=9596.240314, Expected=9171.000000\n",
      "day=43, Predicted=9440.534517, Expected=8850.000000\n",
      "day=44, Predicted=9593.657668, Expected=8521.000000\n",
      "day=45, Predicted=9204.697071, Expected=8580.000000\n"
     ]
    }
   ],
   "source": [
    "predictions = list()\n",
    "for i in range(len(test_scaled)):\n",
    "    # make one-step forecast\n",
    "    X, y = test_scaled[i, 0:-1], test_scaled[i, -1]\n",
    "    yhat = forecast_lstm(lstm_model, 1, X)\n",
    "    \n",
    "    # invert scaling\n",
    "    yhat = invert_scale(scaler, X, yhat)\n",
    "    \n",
    "    # invert differencing\n",
    "    yhat = inverse_difference(raw_values, yhat, len(test_scaled)+1-i)\n",
    "    \n",
    "    # store forecast\n",
    "    predictions.append(yhat)\n",
    "    expected = raw_values[len(train) + i + 1]\n",
    "    print('day=%d, Predicted=%f, Expected=%f' % (i+1, yhat, expected))"
   ]
  },
  {
   "cell_type": "markdown",
   "metadata": {},
   "source": [
    "#### Report performance"
   ]
  },
  {
   "cell_type": "code",
   "execution_count": 127,
   "metadata": {},
   "outputs": [
    {
     "name": "stdout",
     "output_type": "stream",
     "text": [
      "Test RMSE: 1391.496\n"
     ]
    }
   ],
   "source": [
    "rmse = sqrt(mean_squared_error(raw_values[-45:], predictions))\n",
    "print('Test RMSE: %.3f' % rmse)"
   ]
  },
  {
   "cell_type": "markdown",
   "metadata": {},
   "source": [
    "#### Plot the graph"
   ]
  },
  {
   "cell_type": "code",
   "execution_count": 129,
   "metadata": {},
   "outputs": [
    {
     "data": {
      "image/png": "[encoded data removed]",
      "text/plain": [
       "<matplotlib.figure.Figure at 0x114a0fc18>"
      ]
     },
     "metadata": {},
     "output_type": "display_data"
    }
   ],
   "source": [
    "pyplot.plot(raw_values[-45:])\n",
    "pyplot.plot(predictions)\n",
    "pyplot.show()"
   ]
  },
  {
   "cell_type": "code",
   "execution_count": null,
   "metadata": {
    "collapsed": true
   },
   "outputs": [],
   "source": []
  }
 ],
 "metadata": {
  "kernelspec": {
   "display_name": "Python 3",
   "language": "python",
   "name": "python3"
  },
  "language_info": {
   "codemirror_mode": {
    "name": "ipython",
    "version": 3
   },
   "file_extension": ".py",
   "mimetype": "text/x-python",
   "name": "python",
   "nbconvert_exporter": "python",
   "pygments_lexer": "ipython3",
   "version": "3.6.1"
  }
 },
 "nbformat": 4,
 "nbformat_minor": 2
}
