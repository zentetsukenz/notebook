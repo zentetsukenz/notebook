{
 "cells": [
  {
   "cell_type": "code",
   "execution_count": 2,
   "metadata": {
    "collapsed": true
   },
   "outputs": [],
   "source": [
    "import tensorflow as tf\n",
    "import numpy as np"
   ]
  },
  {
   "cell_type": "code",
   "execution_count": 20,
   "metadata": {
    "collapsed": true
   },
   "outputs": [],
   "source": [
    "# List out our bandits. Currently bandit 4 (index#3) is set to most often provide a positive reward.\n",
    "bandits = [0.2, 0, -0.2, -0.5]\n",
    "num_bandits = len(bandits)\n",
    "def pullBandit(bandit):\n",
    "    # Get a random number.\n",
    "    result = np.random.randn(1)\n",
    "    if result > bandit:\n",
    "        # return a positive reward.\n",
    "        return 1\n",
    "    else:\n",
    "        # return a negative reward.\n",
    "        return -1"
   ]
  },
  {
   "cell_type": "code",
   "execution_count": 21,
   "metadata": {},
   "outputs": [
    {
     "name": "stdout",
     "output_type": "stream",
     "text": [
      "Weight :  <tf.Variable 'Variable:0' shape=(4,) dtype=float32_ref>\n",
      "Chosen action :  Tensor(\"ArgMax:0\", shape=(), dtype=int64)\n"
     ]
    }
   ],
   "source": [
    "tf.reset_default_graph()\n",
    "\n",
    "# These two lines established the feed-forward part of the network. This does the actual choosing.\n",
    "weights = tf.Variable(tf.ones([num_bandits]))\n",
    "chosen_action = tf.argmax(weights, 0)\n",
    "\n",
    "print(\"Weight : \", weights)\n",
    "print(\"Chosen action : \", chosen_action)"
   ]
  },
  {
   "cell_type": "code",
   "execution_count": 22,
   "metadata": {},
   "outputs": [
    {
     "name": "stdout",
     "output_type": "stream",
     "text": [
      "Rewards :  Tensor(\"Placeholder:0\", shape=(1,), dtype=float32)\n",
      "Actions :  Tensor(\"Placeholder_1:0\", shape=(1,), dtype=int32)\n",
      "Responsible weights :  Tensor(\"Slice:0\", shape=(1,), dtype=float32)\n",
      "Loss :  Tensor(\"Neg:0\", shape=(1,), dtype=float32)\n",
      "Optimizer :  <tensorflow.python.training.gradient_descent.GradientDescentOptimizer object at 0x111499c88>\n",
      "Update :  name: \"GradientDescent\"\n",
      "op: \"NoOp\"\n",
      "input: \"^GradientDescent/update_Variable/ApplyGradientDescent\"\n",
      "\n"
     ]
    }
   ],
   "source": [
    "# The next six lines establish the training proceedure. We feed the reward and chosen action into the network\n",
    "# to compute the loss, and use it to update the network.\n",
    "reward_holder = tf.placeholder(shape=[1],dtype=tf.float32)\n",
    "action_holder = tf.placeholder(shape=[1],dtype=tf.int32)\n",
    "responsible_weight = tf.slice(weights,action_holder,[1])\n",
    "loss = -(tf.log(responsible_weight)*reward_holder)\n",
    "optimizer = tf.train.GradientDescentOptimizer(learning_rate=0.001)\n",
    "update = optimizer.minimize(loss)\n",
    "\n",
    "print(\"Rewards : \", reward_holder)\n",
    "print(\"Actions : \", action_holder)\n",
    "print(\"Responsible weights : \", responsible_weight)\n",
    "print(\"Loss : \", loss)\n",
    "print(\"Optimizer : \", optimizer)\n",
    "print(\"Update : \", update)"
   ]
  },
  {
   "cell_type": "code",
   "execution_count": 26,
   "metadata": {},
   "outputs": [
    {
     "name": "stdout",
     "output_type": "stream",
     "text": [
      "Running reward for the 4 bandits: [-1.  0.  0.  0.]\n",
      "Running reward for the 4 bandits: [ -2.  -3.  -1.  19.]\n",
      "Running reward for the 4 bandits: [ -2.   0.   0.  45.]\n",
      "Running reward for the 4 bandits: [ -2.  -2.   1.  58.]\n",
      "Running reward for the 4 bandits: [  1.  -2.   4.  74.]\n",
      "Running reward for the 4 bandits: [  2.  -4.   5.  84.]\n",
      "Running reward for the 4 bandits: [  1.  -2.   4.  92.]\n",
      "Running reward for the 4 bandits: [   4.   -4.    4.  109.]\n",
      "Running reward for the 4 bandits: [   4.   -2.    5.  134.]\n",
      "Running reward for the 4 bandits: [   3.   -5.    4.  157.]\n",
      "Running reward for the 4 bandits: [   1.   -3.    2.  163.]\n",
      "Running reward for the 4 bandits: [   0.   -3.    3.  167.]\n",
      "Running reward for the 4 bandits: [  -1.   -5.    3.  184.]\n",
      "Running reward for the 4 bandits: [  -2.   -7.    3.  211.]\n",
      "Running reward for the 4 bandits: [   0.   -5.    2.  222.]\n",
      "Running reward for the 4 bandits: [   2.   -9.    4.  238.]\n",
      "Running reward for the 4 bandits: [  -1.  -11.    4.  267.]\n",
      "Running reward for the 4 bandits: [   1.  -14.    6.  292.]\n",
      "Running reward for the 4 bandits: [   2.  -15.   10.  304.]\n",
      "Running reward for the 4 bandits: [  -1.  -15.   12.  317.]\n",
      "Running reward for the 4 bandits: [   0.  -17.   13.  349.]\n",
      "Running reward for the 4 bandits: [   0.  -17.   12.  362.]\n",
      "Running reward for the 4 bandits: [  -1.  -15.   12.  373.]\n",
      "Running reward for the 4 bandits: [  -2.  -14.   13.  392.]\n",
      "Running reward for the 4 bandits: [  -2.  -14.   15.  404.]\n",
      "Running reward for the 4 bandits: [  -2.  -14.   14.  429.]\n",
      "Running reward for the 4 bandits: [  -3.  -12.   15.  443.]\n",
      "Running reward for the 4 bandits: [  -2.  -14.   12.  463.]\n",
      "Running reward for the 4 bandits: [  -3.  -15.   11.  474.]\n",
      "Running reward for the 4 bandits: [  -5.  -13.   10.  481.]\n",
      "Running reward for the 4 bandits: [  -5.  -12.    9.  497.]\n",
      "Running reward for the 4 bandits: [  -4.  -11.    9.  515.]\n",
      "Running reward for the 4 bandits: [  -4.  -11.    8.  526.]\n",
      "Running reward for the 4 bandits: [  -4.  -10.    8.  535.]\n",
      "Running reward for the 4 bandits: [  -5.  -11.    9.  550.]\n",
      "Running reward for the 4 bandits: [  -4.  -10.   10.  569.]\n",
      "Running reward for the 4 bandits: [  -7.   -8.   10.  572.]\n",
      "Running reward for the 4 bandits: [ -11.   -7.   12.  577.]\n",
      "Running reward for the 4 bandits: [ -15.   -7.   13.  584.]\n",
      "Running reward for the 4 bandits: [ -16.   -5.   14.  604.]\n",
      "The agent thinks bandit 4 is the most promising....\n",
      "...and it was right!\n"
     ]
    }
   ],
   "source": [
    "total_episodes = 2000 # Set total number of episodes to train agent on.\n",
    "total_reward = np.zeros(num_bandits) # Set scoreboard for bandits to 0.\n",
    "e = 0.2 # Set the chance of taking a random action.\n",
    "\n",
    "init = tf.global_variables_initializer()\n",
    "\n",
    "# Launch the tensorflow graph\n",
    "with tf.Session() as sess:\n",
    "    sess.run(init)\n",
    "    i = 0\n",
    "    while i < total_episodes:\n",
    "        \n",
    "        # Choose either a random action or one from our network.\n",
    "        if np.random.rand(1) < e:\n",
    "            action = np.random.randint(num_bandits)\n",
    "        else:\n",
    "            action = sess.run(chosen_action)\n",
    "        \n",
    "        reward = pullBandit(bandits[action]) # Get our reward from picking one of the bandits.\n",
    "        \n",
    "        # Update the network.\n",
    "        _, resp, ww = sess.run([update, responsible_weight, weights], \n",
    "                               feed_dict={reward_holder: [reward], action_holder: [action]})\n",
    "        \n",
    "        # Update our running tally of scores.\n",
    "        total_reward[action] += reward\n",
    "        if i % 50 == 0:\n",
    "            print(\"Running reward for the \" + str(num_bandits) + \" bandits: \" + str(total_reward))\n",
    "        i += 1\n",
    "\n",
    "print(\"The agent thinks bandit \" + str(np.argmax(ww) + 1) + \" is the most promising....\")\n",
    "\n",
    "if np.argmax(ww) == np.argmax(-np.array(bandits)):\n",
    "    print(\"...and it was right!\")\n",
    "else:\n",
    "    print(\"...and it was wrong!\")"
   ]
  },
  {
   "cell_type": "code",
   "execution_count": null,
   "metadata": {
    "collapsed": true
   },
   "outputs": [],
   "source": []
  }
 ],
 "metadata": {
  "kernelspec": {
   "display_name": "Python 3",
   "language": "python",
   "name": "python3"
  },
  "language_info": {
   "codemirror_mode": {
    "name": "ipython",
    "version": 3
   },
   "file_extension": ".py",
   "mimetype": "text/x-python",
   "name": "python",
   "nbconvert_exporter": "python",
   "pygments_lexer": "ipython3",
   "version": "3.6.1"
  }
 },
 "nbformat": 4,
 "nbformat_minor": 2
}
