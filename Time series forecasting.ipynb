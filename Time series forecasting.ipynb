{
 "cells": [
  {
   "cell_type": "markdown",
   "metadata": {},
   "source": [
    "# Functionality test"
   ]
  },
  {
   "cell_type": "code",
   "execution_count": 56,
   "metadata": {
    "collapsed": true
   },
   "outputs": [],
   "source": [
    "from pandas import DataFrame\n",
    "from pandas import Series\n",
    "from pandas import concat\n",
    "from pandas import read_csv\n",
    "from pandas import datetime\n",
    "from sklearn.metrics import mean_squared_error\n",
    "from sklearn.preprocessing import MinMaxScaler\n",
    "from keras.models import Sequential\n",
    "from keras.layers import Dense\n",
    "from keras.layers import LSTM\n",
    "from math import sqrt\n",
    "from matplotlib import pyplot\n",
    "import numpy"
   ]
  },
  {
   "cell_type": "markdown",
   "metadata": {},
   "source": [
    "### Load data"
   ]
  },
  {
   "cell_type": "code",
   "execution_count": 57,
   "metadata": {},
   "outputs": [
    {
     "name": "stdout",
     "output_type": "stream",
     "text": [
      "timestamp\n",
      "2016-06-24    500.00\n",
      "2016-06-25    499.01\n",
      "2016-06-26    499.00\n",
      "2016-06-27    463.02\n",
      "2016-06-28    480.00\n",
      "Name: close, dtype: float64\n"
     ]
    }
   ],
   "source": [
    "def parser(timestamps):\n",
    "    result = []\n",
    "    for timestamp in timestamps:\n",
    "        parsed_date = to_datetime(timestamp, format='%Y-%m-%d')\n",
    "        result.append(parsed_date)\n",
    "    return result"
   ]
  },
  {
   "cell_type": "code",
   "execution_count": 58,
   "metadata": {},
   "outputs": [
    {
     "data": {
      "image/png": "[encoded data removed]",
      "text/plain": [
       "<matplotlib.figure.Figure at 0x110c34400>"
      ]
     },
     "metadata": {},
     "output_type": "display_data"
    }
   ],
   "source": [
    "series.plot()\n",
    "pyplot.show()"
   ]
  },
  {
   "cell_type": "markdown",
   "metadata": {},
   "source": [
    "### Preparing data"
   ]
  },
  {
   "cell_type": "code",
   "execution_count": 48,
   "metadata": {},
   "outputs": [
    {
     "name": "stdout",
     "output_type": "stream",
     "text": [
      "[ 11600.99  11275.99  11110.     8888.     8620.01]\n",
      "[ 10355.  10787.  10400.   9800.   9399.]\n"
     ]
    }
   ],
   "source": [
    "# split data into train and test\n",
    "X = series.values\n",
    "train, test = X[0:-12], X[-12:]\n",
    "\n",
    "print(train[-5:])\n",
    "print(test[:5])"
   ]
  },
  {
   "cell_type": "markdown",
   "metadata": {},
   "source": [
    "#### Transform series to supervised learning"
   ]
  },
  {
   "cell_type": "code",
   "execution_count": 49,
   "metadata": {
    "collapsed": true
   },
   "outputs": [],
   "source": [
    "# frame a sequence as a supervised learning problem\n",
    "def timeseries_to_supervised(data, lag=1):\n",
    "    df = DataFrame(data)\n",
    "    columns = [df.shift(i) for i in range(1, lag+1)]\n",
    "    columns.append(df)\n",
    "    df = concat(columns, axis=1)\n",
    "    df.fillna(0, inplace=True)\n",
    "    return df"
   ]
  },
  {
   "cell_type": "markdown",
   "metadata": {},
   "source": [
    "#### Transform series to stationary"
   ]
  },
  {
   "cell_type": "code",
   "execution_count": 6,
   "metadata": {
    "collapsed": true
   },
   "outputs": [],
   "source": [
    "# create a differenced series\n",
    "def difference(dataset, interval=1):\n",
    "    diff = list()\n",
    "    for i in range(interval, len(dataset)):\n",
    "        value = dataset[i] - dataset[i - interval]\n",
    "        diff.append(value)\n",
    "    return Series(diff)"
   ]
  },
  {
   "cell_type": "code",
   "execution_count": 50,
   "metadata": {
    "collapsed": true
   },
   "outputs": [],
   "source": [
    "# invert differenced value\n",
    "def inverse_difference(history, yhat, interval=1):\n",
    "    return yhat + history[-interval]"
   ]
  },
  {
   "cell_type": "code",
   "execution_count": 71,
   "metadata": {},
   "outputs": [
    {
     "name": "stdout",
     "output_type": "stream",
     "text": [
      "timestamp\n",
      "2016-06-24    500.00\n",
      "2016-06-25    499.01\n",
      "2016-06-26    499.00\n",
      "2016-06-27    463.02\n",
      "2016-06-28    480.00\n",
      "Name: close, dtype: float64\n",
      "0    -0.99\n",
      "1    -0.01\n",
      "2   -35.98\n",
      "3    16.98\n",
      "4   -52.64\n",
      "dtype: float64\n",
      "0    499.01\n",
      "1    499.00\n",
      "2    463.02\n",
      "3    480.00\n",
      "4    427.36\n",
      "dtype: float64\n"
     ]
    }
   ],
   "source": [
    "# Test difference function\n",
    "print(series.head())\n",
    "\n",
    "_test_differenced = difference(series, 1)\n",
    "print(_test_differenced.head())\n",
    "\n",
    "# invert transform\n",
    "_inverted = list()\n",
    "for i in range(len(_test_differenced)):\n",
    "    value = inverse_difference(series, _test_differenced[i], len(series)-i)\n",
    "    _inverted.append(value)\n",
    "_inverted = Series(_inverted)\n",
    "print(_inverted.head())"
   ]
  },
  {
   "cell_type": "markdown",
   "metadata": {},
   "source": [
    "#### Transform series to scale"
   ]
  },
  {
   "cell_type": "code",
   "execution_count": 60,
   "metadata": {
    "collapsed": true
   },
   "outputs": [],
   "source": [
    "# scale train and test data to [-1, 1]\n",
    "def scale(train, test):\n",
    "    # fit scaler\n",
    "    scaler = MinMaxScaler(feature_range=(-1, 1))\n",
    "    scaler = scaler.fit(train)\n",
    "\n",
    "    # transform train\n",
    "    train = train.reshape(train.shape[0], train.shape[1])\n",
    "    train_scaled = scaler.transform(train)\n",
    "\n",
    "    # transform test\n",
    "    test = test.reshape(test.shape[0], test.shape[1])\n",
    "    test_scaled = scaler.transform(test)\n",
    "\n",
    "    return scaler, train_scaled, test_scaled"
   ]
  },
  {
   "cell_type": "code",
   "execution_count": 61,
   "metadata": {
    "collapsed": true
   },
   "outputs": [],
   "source": [
    "# inverse scaling for a forecasted value\n",
    "def invert_scale(scaler, X, value):\n",
    "    new_row = [x for x in X] + [value]\n",
    "    array = numpy.array(new_row)\n",
    "    array = array.reshape(1, len(array))\n",
    "    inverted = scaler.inverse_transform(array)\n",
    "\n",
    "    return inverted[0, -1]"
   ]
  },
  {
   "cell_type": "code",
   "execution_count": 69,
   "metadata": {},
   "outputs": [
    {
     "name": "stdout",
     "output_type": "stream",
     "text": [
      "0   -0.962281\n",
      "1   -0.962433\n",
      "2   -0.962434\n",
      "3   -0.967929\n",
      "4   -0.965336\n",
      "dtype: float64\n",
      "0    0.542643\n",
      "1    0.608613\n",
      "2    0.549515\n",
      "3    0.457891\n",
      "4    0.396656\n",
      "dtype: float64\n"
     ]
    }
   ],
   "source": [
    "# Test scale function\n",
    "_test_train_data = train.reshape(len(train), 1)\n",
    "_test_test_data = test.reshape(len(test), 1)\n",
    "_, _train_scaled, _test_scaled = scale(_test_train_data, _test_test_data)\n",
    "_train_scaled_series = Series(_train_scaled[:, 0])\n",
    "_test_scaled_series = Series(_test_scaled[:, 0])\n",
    "print(_train_scaled_series.head())\n",
    "print(_test_scaled_series.head())"
   ]
  },
  {
   "cell_type": "markdown",
   "metadata": {},
   "source": [
    "### LSTM Modeling"
   ]
  },
  {
   "cell_type": "code",
   "execution_count": 55,
   "metadata": {
    "collapsed": true
   },
   "outputs": [],
   "source": [
    "def fit_lstm(train, batch_size, nb_epoch, neurons):\n",
    "    X, y = train[:, 0:-1], train[:, -1]\n",
    "    X = X.reshape(X.shape[0], 1, X.shape[1])\n",
    "    model = Sequential()\n",
    "    model.add(LSTM(neurons, batch_input_shape=(batch_size, X.shape[1], X.shape[2]), stateful=True))\n",
    "    model.add(Dense(1))\n",
    "    model.compile(loss='mean_squared_error', optimizer='adam')\n",
    "    for i in range(nb_epoch):\n",
    "        model.fit(X, y, epochs=1, batch_size=batch_size, verbose=0, shuffle=False)\n",
    "        model.reset_states()\n",
    "    return model"
   ]
  },
  {
   "cell_type": "markdown",
   "metadata": {},
   "source": [
    "### Prediction"
   ]
  },
  {
   "cell_type": "code",
   "execution_count": 104,
   "metadata": {
    "collapsed": true
   },
   "outputs": [],
   "source": [
    "def forecast_lstm(model, batch_size, X):\n",
    "    X = X.reshape(1, 1, len(X))\n",
    "    yhat = model.predict(X, batch_size=batch_size)\n",
    "    return yhat[0,0]"
   ]
  },
  {
   "cell_type": "markdown",
   "metadata": {},
   "source": [
    "# Execution starts here"
   ]
  },
  {
   "cell_type": "markdown",
   "metadata": {},
   "source": [
    "#### Loading data"
   ]
  },
  {
   "cell_type": "code",
   "execution_count": 135,
   "metadata": {},
   "outputs": [
    {
     "name": "stdout",
     "output_type": "stream",
     "text": [
      "timestamp\n",
      "2016-06-24    500.00\n",
      "2016-06-25    499.01\n",
      "2016-06-26    499.00\n",
      "2016-06-27    463.02\n",
      "2016-06-28    480.00\n",
      "Name: close, dtype: float64\n"
     ]
    }
   ],
   "source": [
    "series = read_csv('eth_data.csv',\n",
    "                  header=0,\n",
    "                  index_col='timestamp',\n",
    "                  usecols=['timestamp', 'close'],\n",
    "                  squeeze=True,\n",
    "                  parse_dates=['timestamp'],\n",
    "                  date_parser=parser)\n",
    "\n",
    "print(series.head())"
   ]
  },
  {
   "cell_type": "markdown",
   "metadata": {},
   "source": [
    "#### Transform data to be stationary"
   ]
  },
  {
   "cell_type": "code",
   "execution_count": 136,
   "metadata": {},
   "outputs": [
    {
     "name": "stdout",
     "output_type": "stream",
     "text": [
      "[ 500.    499.01  499.    463.02  480.  ]\n",
      "0    -0.99\n",
      "1    -0.01\n",
      "2   -35.98\n",
      "3    16.98\n",
      "4   -52.64\n",
      "dtype: float64\n"
     ]
    }
   ],
   "source": [
    "raw_values = series.values\n",
    "diff_values = difference(raw_values, 1)\n",
    "\n",
    "print(raw_values[:5])\n",
    "print(diff_values[:5])"
   ]
  },
  {
   "cell_type": "markdown",
   "metadata": {},
   "source": [
    "#### Transform data to be supervised learning"
   ]
  },
  {
   "cell_type": "code",
   "execution_count": 137,
   "metadata": {},
   "outputs": [
    {
     "name": "stdout",
     "output_type": "stream",
     "text": [
      "       0      0\n",
      "0   0.00  -0.99\n",
      "1  -0.99  -0.01\n",
      "2  -0.01 -35.98\n",
      "3 -35.98  16.98\n",
      "4  16.98 -52.64\n",
      "[[  0.00000000e+00  -9.90000000e-01]\n",
      " [ -9.90000000e-01  -1.00000000e-02]\n",
      " [ -1.00000000e-02  -3.59800000e+01]\n",
      " [ -3.59800000e+01   1.69800000e+01]\n",
      " [  1.69800000e+01  -5.26400000e+01]]\n"
     ]
    }
   ],
   "source": [
    "supervised = timeseries_to_supervised(diff_values, 1)\n",
    "supervised_values = supervised.values\n",
    "\n",
    "print(supervised.head())\n",
    "print(supervised_values[:5])"
   ]
  },
  {
   "cell_type": "markdown",
   "metadata": {},
   "source": [
    "#### Split data into train and test"
   ]
  },
  {
   "cell_type": "code",
   "execution_count": 146,
   "metadata": {},
   "outputs": [
    {
     "name": "stdout",
     "output_type": "stream",
     "text": [
      "[[  0.00000000e+00  -9.90000000e-01]\n",
      " [ -9.90000000e-01  -1.00000000e-02]\n",
      " [ -1.00000000e-02  -3.59800000e+01]\n",
      " [ -3.59800000e+01   1.69800000e+01]\n",
      " [  1.69800000e+01  -5.26400000e+01]]\n",
      "[[  254.  1393.]\n",
      " [ 1393.   842.]\n",
      " [  842.  1282.]\n",
      " [ 1282.   828.]\n",
      " [  828.  -400.]]\n"
     ]
    }
   ],
   "source": [
    "days_to_predict = 30\n",
    "train, test = supervised_values[0:-days_to_predict], supervised_values[-days_to_predict:]\n",
    "\n",
    "print(train[:5])\n",
    "print(test[:5])"
   ]
  },
  {
   "cell_type": "markdown",
   "metadata": {},
   "source": [
    "#### Transform the scale of the data"
   ]
  },
  {
   "cell_type": "code",
   "execution_count": 139,
   "metadata": {},
   "outputs": [
    {
     "name": "stdout",
     "output_type": "stream",
     "text": [
      "MinMaxScaler(copy=True, feature_range=(-1, 1))\n",
      "[[-0.01631827 -0.01654189]\n",
      " [-0.01654189 -0.01632053]\n",
      " [-0.01632053 -0.02444522]\n",
      " [-0.02444522 -0.01248293]\n",
      " [-0.01248293 -0.02820829]]\n",
      "[[ 0.04105375  0.29832435]\n",
      " [ 0.29832435  0.17386772]\n",
      " [ 0.17386772  0.27325233]\n",
      " [ 0.27325233  0.17070548]\n",
      " [ 0.17070548 -0.10666792]]\n"
     ]
    }
   ],
   "source": [
    "scaler, train_scaled, test_scaled = scale(train, test)\n",
    "\n",
    "print(scaler)\n",
    "print(train_scaled[:5])\n",
    "print(test_scaled[:5])"
   ]
  },
  {
   "cell_type": "markdown",
   "metadata": {},
   "source": [
    "#### Fit the model"
   ]
  },
  {
   "cell_type": "code",
   "execution_count": 140,
   "metadata": {
    "collapsed": true
   },
   "outputs": [],
   "source": [
    "lstm_model = fit_lstm(train_scaled, 1, 3000, 4)"
   ]
  },
  {
   "cell_type": "markdown",
   "metadata": {},
   "source": [
    "#### Forecast the training dataset"
   ]
  },
  {
   "cell_type": "code",
   "execution_count": 141,
   "metadata": {},
   "outputs": [
    {
     "data": {
      "text/plain": [
       "array([[ -8.88681412e-03],\n",
       "       [ -7.85708427e-03],\n",
       "       [ -2.28911042e-02],\n",
       "       [ -2.20009089e-02],\n",
       "       [ -3.31816673e-02],\n",
       "       [  1.77533031e-02],\n",
       "       [  7.48753548e-04],\n",
       "       [  3.52696180e-02],\n",
       "       [  2.27804184e-02],\n",
       "       [  4.24969196e-02],\n",
       "       [  3.44674587e-02],\n",
       "       [  4.89324331e-02],\n",
       "       [  3.64865065e-02],\n",
       "       [  5.32327890e-02],\n",
       "       [  3.72700691e-02],\n",
       "       [  4.82224226e-02],\n",
       "       [  4.06345129e-02],\n",
       "       [  4.42564487e-02],\n",
       "       [  4.51282263e-02],\n",
       "       [  3.77321243e-02],\n",
       "       [  5.21590710e-02],\n",
       "       [  3.90827656e-02],\n",
       "       [  4.80186939e-02],\n",
       "       [  3.73680592e-02],\n",
       "       [  5.20142317e-02],\n",
       "       [  3.96224260e-02],\n",
       "       [  4.32170630e-02],\n",
       "       [  4.13072109e-02],\n",
       "       [  4.51691151e-02],\n",
       "       [  3.20056677e-02],\n",
       "       [  5.50634861e-02],\n",
       "       [  3.35904360e-02],\n",
       "       [  5.86425066e-02],\n",
       "       [  3.58065367e-02],\n",
       "       [  5.38688898e-02],\n",
       "       [  3.72318029e-02],\n",
       "       [  5.01819849e-02],\n",
       "       [  4.39131260e-02],\n",
       "       [  4.68256474e-02],\n",
       "       [  4.76409197e-02],\n",
       "       [  4.24388647e-02],\n",
       "       [  4.09127474e-02],\n",
       "       [  4.72894907e-02],\n",
       "       [  4.70477343e-02],\n",
       "       [  4.28926945e-02],\n",
       "       [  4.53407764e-02],\n",
       "       [  3.79053354e-02],\n",
       "       [  5.08729219e-02],\n",
       "       [  3.94170284e-02],\n",
       "       [  4.78031635e-02],\n",
       "       [  4.16413546e-02],\n",
       "       [  4.40016985e-02],\n",
       "       [  4.63541746e-02],\n",
       "       [  4.28370237e-02],\n",
       "       [  4.49858904e-02],\n",
       "       [  4.44314480e-02],\n",
       "       [  4.62913513e-02],\n",
       "       [  4.28364277e-02],\n",
       "       [  4.55049276e-02],\n",
       "       [  4.32327986e-02],\n",
       "       [  4.48679924e-02],\n",
       "       [  4.43468094e-02],\n",
       "       [  4.52457666e-02],\n",
       "       [  4.27693129e-02],\n",
       "       [  4.46920395e-02],\n",
       "       [  4.45145369e-02],\n",
       "       [  4.35858965e-02],\n",
       "       [  4.48246002e-02],\n",
       "       [  4.35359478e-02],\n",
       "       [  3.93493176e-02],\n",
       "       [  4.83665466e-02],\n",
       "       [  4.29580212e-02],\n",
       "       [  4.77535725e-02],\n",
       "       [  3.94500494e-02],\n",
       "       [  4.98887300e-02],\n",
       "       [  3.83212566e-02],\n",
       "       [  5.00963926e-02],\n",
       "       [  3.98843288e-02],\n",
       "       [  4.74643707e-02],\n",
       "       [  4.04156446e-02],\n",
       "       [  4.76831198e-02],\n",
       "       [  3.84372473e-02],\n",
       "       [  5.00952005e-02],\n",
       "       [  4.07816172e-02],\n",
       "       [  4.61010933e-02],\n",
       "       [  4.23052311e-02],\n",
       "       [  3.98958921e-02],\n",
       "       [  4.72239256e-02],\n",
       "       [  3.91738415e-02],\n",
       "       [  4.50906754e-02],\n",
       "       [  4.69806194e-02],\n",
       "       [  4.19801474e-02],\n",
       "       [  4.72427607e-02],\n",
       "       [  4.25126553e-02],\n",
       "       [  4.57952023e-02],\n",
       "       [  4.27424908e-02],\n",
       "       [  4.52096462e-02],\n",
       "       [  4.42967415e-02],\n",
       "       [  4.08197641e-02],\n",
       "       [  4.79302406e-02],\n",
       "       [  4.25572395e-02],\n",
       "       [  4.61235046e-02],\n",
       "       [  3.94637585e-02],\n",
       "       [  4.82183695e-02],\n",
       "       [  4.36227322e-02],\n",
       "       [  4.85610962e-02],\n",
       "       [  4.22369242e-02],\n",
       "       [  4.66057062e-02],\n",
       "       [  4.39535379e-02],\n",
       "       [  4.50350046e-02],\n",
       "       [  4.29310799e-02],\n",
       "       [  4.37289476e-02],\n",
       "       [  4.42774296e-02],\n",
       "       [  4.49473858e-02],\n",
       "       [  4.41362858e-02],\n",
       "       [  4.42049503e-02],\n",
       "       [  4.11317348e-02],\n",
       "       [  4.83161211e-02],\n",
       "       [  4.26359177e-02],\n",
       "       [  4.51085567e-02],\n",
       "       [  4.52979803e-02],\n",
       "       [  4.37095165e-02],\n",
       "       [  4.47983742e-02],\n",
       "       [  4.63876724e-02],\n",
       "       [  4.27891016e-02],\n",
       "       [  4.54335213e-02],\n",
       "       [  4.24636602e-02],\n",
       "       [  4.88878489e-02],\n",
       "       [  4.18316126e-02],\n",
       "       [  4.51911688e-02],\n",
       "       [  4.74139452e-02],\n",
       "       [  3.99843454e-02],\n",
       "       [  4.70223427e-02],\n",
       "       [  4.42339182e-02],\n",
       "       [  4.26986217e-02],\n",
       "       [  4.65906858e-02],\n",
       "       [  4.34060097e-02],\n",
       "       [  4.58236933e-02],\n",
       "       [  4.28990126e-02],\n",
       "       [  4.58948612e-02],\n",
       "       [  4.30690050e-02],\n",
       "       [  4.60489988e-02],\n",
       "       [  4.36971188e-02],\n",
       "       [  4.64923382e-02],\n",
       "       [  4.03975248e-02],\n",
       "       [  4.68144417e-02],\n",
       "       [  4.49817181e-02],\n",
       "       [  4.46401834e-02],\n",
       "       [  4.75631952e-02],\n",
       "       [  3.96192074e-02],\n",
       "       [  5.26664257e-02],\n",
       "       [  3.46660614e-02],\n",
       "       [  5.28844595e-02],\n",
       "       [  3.48955393e-02],\n",
       "       [  5.54249287e-02],\n",
       "       [  2.98975706e-02],\n",
       "       [  6.42011166e-02],\n",
       "       [  2.38702297e-02],\n",
       "       [  6.60048723e-02],\n",
       "       [  2.40807533e-02],\n",
       "       [  6.52967691e-02],\n",
       "       [  2.37956047e-02],\n",
       "       [  5.78955412e-02],\n",
       "       [  3.51766348e-02],\n",
       "       [  5.79280853e-02],\n",
       "       [  3.76811028e-02],\n",
       "       [  5.00235558e-02],\n",
       "       [  3.70967388e-02],\n",
       "       [  4.66359854e-02],\n",
       "       [  4.46429253e-02],\n",
       "       [  4.57657576e-02],\n",
       "       [  4.33994532e-02],\n",
       "       [  4.42482233e-02],\n",
       "       [  4.52845097e-02],\n",
       "       [  4.46183681e-02],\n",
       "       [  4.43402529e-02],\n",
       "       [  4.67970371e-02],\n",
       "       [  4.13702726e-02],\n",
       "       [  4.55931425e-02],\n",
       "       [  4.37107086e-02],\n",
       "       [  4.45456505e-02],\n",
       "       [  4.41138744e-02],\n",
       "       [  4.50888872e-02],\n",
       "       [  4.53208685e-02],\n",
       "       [  4.43817377e-02],\n",
       "       [  4.51855659e-02],\n",
       "       [  4.44600582e-02],\n",
       "       [  4.33504581e-02],\n",
       "       [  3.89106274e-02],\n",
       "       [  4.96523380e-02],\n",
       "       [  3.99358273e-02],\n",
       "       [  4.53593731e-02],\n",
       "       [  4.37883139e-02],\n",
       "       [  4.21321392e-02],\n",
       "       [  3.39736938e-02],\n",
       "       [  4.97592688e-02],\n",
       "       [  4.33245897e-02],\n",
       "       [  4.42649126e-02],\n",
       "       [  4.54033613e-02],\n",
       "       [  3.78680229e-02],\n",
       "       [  5.15748262e-02],\n",
       "       [  4.17333841e-02],\n",
       "       [  4.91824150e-02],\n",
       "       [  4.32286263e-02],\n",
       "       [  4.57551479e-02],\n",
       "       [  4.28057909e-02],\n",
       "       [  4.57329750e-02],\n",
       "       [  4.26211357e-02],\n",
       "       [  4.37858105e-02],\n",
       "       [  4.41410542e-02],\n",
       "       [  4.07326221e-02],\n",
       "       [  4.66560125e-02],\n",
       "       [  4.28845882e-02],\n",
       "       [  4.51614857e-02],\n",
       "       [  4.30620909e-02],\n",
       "       [  4.53176498e-02],\n",
       "       [  4.35661077e-02],\n",
       "       [  4.40716743e-02],\n",
       "       [  4.49905396e-02],\n",
       "       [  4.42095995e-02],\n",
       "       [  4.41089869e-02],\n",
       "       [  4.43592072e-02],\n",
       "       [  4.44711447e-02],\n",
       "       [  4.41939831e-02],\n",
       "       [  4.37799692e-02],\n",
       "       [  4.24702168e-02],\n",
       "       [  4.41646576e-02],\n",
       "       [  3.99222374e-02],\n",
       "       [  5.00078201e-02],\n",
       "       [  4.13471460e-02],\n",
       "       [  4.72160578e-02],\n",
       "       [  4.28178310e-02],\n",
       "       [  4.45307493e-02],\n",
       "       [  4.29699421e-02],\n",
       "       [  4.14135456e-02],\n",
       "       [  4.96156216e-02],\n",
       "       [  3.54763269e-02],\n",
       "       [  4.87146378e-02],\n",
       "       [  4.03224230e-02],\n",
       "       [  4.72309589e-02],\n",
       "       [  3.97498608e-02],\n",
       "       [  4.97121811e-02],\n",
       "       [  3.61797810e-02],\n",
       "       [  5.42256832e-02],\n",
       "       [  2.95090675e-02],\n",
       "       [  6.12658262e-02],\n",
       "       [  1.71210766e-02],\n",
       "       [  7.74232149e-02],\n",
       "       [  2.53922939e-02],\n",
       "       [  6.13088608e-02],\n",
       "       [  1.66863203e-02],\n",
       "       [  4.81199026e-02],\n",
       "       [  3.46170664e-02],\n",
       "       [  4.72227335e-02],\n",
       "       [  4.51256037e-02],\n",
       "       [  3.92142534e-02],\n",
       "       [  4.87936735e-02],\n",
       "       [  4.97107506e-02],\n",
       "       [  4.11001444e-02],\n",
       "       [  4.78093624e-02],\n",
       "       [  3.26883793e-02],\n",
       "       [  4.04907465e-02],\n",
       "       [ -1.61778927e-03],\n",
       "       [  8.48023891e-02],\n",
       "       [  7.77566433e-03],\n",
       "       [  2.70227194e-02],\n",
       "       [  1.45744085e-02],\n",
       "       [  1.05384469e-01],\n",
       "       [  6.46150112e-03],\n",
       "       [  5.61610460e-02],\n",
       "       [  4.74108458e-02],\n",
       "       [  5.92319965e-02],\n",
       "       [  3.29681635e-02],\n",
       "       [  2.59768963e-02],\n",
       "       [  3.31873894e-02],\n",
       "       [  5.64991236e-02],\n",
       "       [  3.04833651e-02],\n",
       "       [  6.30981922e-02],\n",
       "       [  2.43916512e-02],\n",
       "       [  5.00962734e-02],\n",
       "       [  5.25865555e-02],\n",
       "       [  3.85223627e-02],\n",
       "       [  5.13372421e-02],\n",
       "       [  6.27155304e-02],\n",
       "       [  4.40576077e-02],\n",
       "       [  4.13110256e-02],\n",
       "       [  5.10057211e-02],\n",
       "       [  5.64370155e-02],\n",
       "       [  3.24753523e-02],\n",
       "       [  5.83269596e-02],\n",
       "       [  3.95785570e-02],\n",
       "       [  4.63597775e-02],\n",
       "       [  4.27566767e-02],\n",
       "       [  1.33229494e-02],\n",
       "       [  7.36702681e-02],\n",
       "       [  2.16317177e-02],\n",
       "       [  5.99453449e-02],\n",
       "       [  3.27024460e-02],\n",
       "       [  4.93205786e-02],\n",
       "       [  3.79881859e-02],\n",
       "       [  5.37428856e-02],\n",
       "       [  3.70742083e-02],\n",
       "       [  5.44850826e-02],\n",
       "       [  3.96912098e-02],\n",
       "       [  4.00584936e-02],\n",
       "       [  4.68096733e-02],\n",
       "       [  3.00028324e-02],\n",
       "       [  2.80852318e-02],\n",
       "       [  9.02175903e-03],\n",
       "       [  4.79059219e-02],\n",
       "       [  1.60589218e-02],\n",
       "       [  2.54515409e-02],\n",
       "       [  6.44835234e-02],\n",
       "       [  1.92819834e-02],\n",
       "       [  1.96849108e-02],\n",
       "       [  4.70834970e-02],\n",
       "       [  1.79638863e-02],\n",
       "       [  4.67413664e-02],\n",
       "       [  6.23707771e-02],\n",
       "       [  4.91819382e-02],\n",
       "       [ -9.17634964e-02],\n",
       "       [  2.78397024e-01],\n",
       "       [ -2.70963669e-01],\n",
       "       [  4.50237632e-01],\n",
       "       [ -3.85375619e-01],\n",
       "       [  6.26874328e-01],\n",
       "       [ -6.78815842e-01],\n",
       "       [  8.88690114e-01],\n",
       "       [ -7.87358582e-01],\n",
       "       [  9.31681275e-01],\n",
       "       [ -9.67371345e-01],\n",
       "       [  9.78446126e-01],\n",
       "       [ -9.22002375e-01],\n",
       "       [  7.21144199e-01],\n",
       "       [ -9.24104452e-01],\n",
       "       [  2.60343373e-01],\n",
       "       [  6.67407990e-01],\n",
       "       [  8.41859579e-02],\n",
       "       [  7.33423233e-02],\n",
       "       [ -3.24509144e-02],\n",
       "       [  4.98592854e-03],\n",
       "       [ -1.27091408e-02],\n",
       "       [  1.09843135e-01],\n",
       "       [  2.70987153e-02],\n",
       "       [  8.33917856e-02],\n",
       "       [ -5.44861555e-02],\n",
       "       [  9.84619856e-02],\n",
       "       [ -3.00121307e-02],\n",
       "       [  7.16888905e-02],\n",
       "       [  8.91339183e-02]], dtype=float32)"
      ]
     },
     "execution_count": 141,
     "metadata": {},
     "output_type": "execute_result"
    }
   ],
   "source": [
    "train_reshaped = train_scaled[:, 0].reshape(len(train_scaled), 1, 1)\n",
    "lstm_model.predict(train_reshaped, batch_size=1)"
   ]
  },
  {
   "cell_type": "markdown",
   "metadata": {},
   "source": [
    "#### Walk-forward validation on the test data"
   ]
  },
  {
   "cell_type": "code",
   "execution_count": 152,
   "metadata": {},
   "outputs": [
    {
     "name": "stdout",
     "output_type": "stream",
     "text": [
      "day=1, Predicted=9077.738992, Expected=10398.000000\n",
      "day=2, Predicted=10111.873143, Expected=11240.000000\n",
      "day=3, Predicted=11601.793703, Expected=12522.000000\n",
      "day=4, Predicted=12101.480530, Expected=13350.000000\n",
      "day=5, Predicted=13752.996080, Expected=12950.000000\n",
      "day=6, Predicted=13447.931648, Expected=12078.990000\n",
      "day=7, Predicted=13147.829931, Expected=12620.000000\n",
      "day=8, Predicted=12456.076409, Expected=12801.000000\n",
      "day=9, Predicted=13351.564440, Expected=12951.000000\n",
      "day=10, Predicted=12970.835454, Expected=12833.990000\n",
      "day=11, Predicted=13331.021802, Expected=12800.010000\n",
      "day=12, Predicted=12973.069911, Expected=12424.000000\n",
      "day=13, Predicted=13030.440371, Expected=11972.000000\n",
      "day=14, Predicted=12534.134450, Expected=11600.990000\n",
      "day=15, Predicted=12169.929500, Expected=11275.990000\n",
      "day=16, Predicted=11747.406019, Expected=11110.000000\n",
      "day=17, Predicted=11502.575023, Expected=8888.000000\n",
      "day=18, Predicted=12286.464679, Expected=8620.010000\n",
      "day=19, Predicted=9896.418470, Expected=10355.000000\n",
      "day=20, Predicted=10410.993417, Expected=10787.000000\n",
      "day=21, Predicted=11261.186277, Expected=10400.000000\n",
      "day=22, Predicted=10861.090487, Expected=9800.000000\n",
      "day=23, Predicted=10528.709608, Expected=9399.000000\n",
      "day=24, Predicted=9954.999402, Expected=9876.550000\n",
      "day=25, Predicted=9870.877863, Expected=9300.010000\n",
      "day=26, Predicted=10116.878889, Expected=9045.000000\n",
      "day=27, Predicted=9445.765202, Expected=9171.000000\n",
      "day=28, Predicted=9593.430372, Expected=8850.000000\n",
      "day=29, Predicted=9299.215427, Expected=8521.000000\n",
      "day=30, Predicted=9000.774028, Expected=8580.000000\n"
     ]
    }
   ],
   "source": [
    "predictions = list()\n",
    "for i in range(len(test_scaled)):\n",
    "    # make one-step forecast\n",
    "    X, y = test_scaled[i, 0:-1], test_scaled[i, -1]\n",
    "    yhat = forecast_lstm(lstm_model, 1, X)\n",
    "    \n",
    "    # invert scaling\n",
    "    yhat = invert_scale(scaler, X, yhat)\n",
    "    \n",
    "    # invert differencing\n",
    "    yhat = inverse_difference(raw_values, yhat, len(test_scaled)+1-i)\n",
    "    \n",
    "    # store forecast\n",
    "    predictions.append(yhat)\n",
    "    expected = raw_values[len(train) + i + 1]\n",
    "    print('day=%d, Predicted=%f, Expected=%f' % (i+1, yhat, expected))"
   ]
  },
  {
   "cell_type": "markdown",
   "metadata": {},
   "source": [
    "#### Report performance"
   ]
  },
  {
   "cell_type": "code",
   "execution_count": 143,
   "metadata": {},
   "outputs": [
    {
     "name": "stdout",
     "output_type": "stream",
     "text": [
      "Test RMSE: 1139.828\n"
     ]
    }
   ],
   "source": [
    "rmse = sqrt(mean_squared_error(raw_values[-days_to_predict:], predictions))\n",
    "print('Test RMSE: %.3f' % rmse)"
   ]
  },
  {
   "cell_type": "markdown",
   "metadata": {},
   "source": [
    "#### Plot the graph"
   ]
  },
  {
   "cell_type": "code",
   "execution_count": 144,
   "metadata": {},
   "outputs": [
    {
     "data": {
      "image/png": "[encoded data removed]",
      "text/plain": [
       "<matplotlib.figure.Figure at 0x117106a20>"
      ]
     },
     "metadata": {},
     "output_type": "display_data"
    }
   ],
   "source": [
    "pyplot.plot(raw_values[-days_to_predict:])\n",
    "pyplot.plot(predictions)\n",
    "pyplot.show()"
   ]
  }
 ],
 "metadata": {
  "kernelspec": {
   "display_name": "Python 3",
   "language": "python",
   "name": "python3"
  },
  "language_info": {
   "codemirror_mode": {
    "name": "ipython",
    "version": 3
   },
   "file_extension": ".py",
   "mimetype": "text/x-python",
   "name": "python",
   "nbconvert_exporter": "python",
   "pygments_lexer": "ipython3",
   "version": "3.6.1"
  }
 },
 "nbformat": 4,
 "nbformat_minor": 2
}
