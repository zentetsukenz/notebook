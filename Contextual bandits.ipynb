{
 "cells": [
  {
   "cell_type": "markdown",
   "metadata": {},
   "source": [
    "This notebook is copied from https://gist.github.com/awjuliani/b5d83fcf3bf2898656be5730f098e08b#file-contextualpolicy-ipynb"
   ]
  },
  {
   "cell_type": "code",
   "execution_count": 1,
   "metadata": {
    "collapsed": true
   },
   "outputs": [],
   "source": [
    "import tensorflow as tf\n",
    "import tensorflow.contrib.slim as slim\n",
    "import numpy as np"
   ]
  },
  {
   "cell_type": "markdown",
   "metadata": {},
   "source": [
    "### Contextual bandit\n",
    "This class describe an environment that agent gonna interact with"
   ]
  },
  {
   "cell_type": "code",
   "execution_count": 40,
   "metadata": {},
   "outputs": [],
   "source": [
    "class contextual_bandit():\n",
    "    def __init__(self):\n",
    "        self.state = 0\n",
    "        \n",
    "        # List out our bandits. Currently arms 4, 2, and 1 (respectively) are the most optimal.\n",
    "        self.bandits = np.array([[0.2, 0, -0.0, -5], [0.1, -5, 1, 0.25], [-5, 5, 5, 5]])\n",
    "        \n",
    "        self.num_bandits = self.bandits.shape[0]\n",
    "        self.num_actions = self.bandits.shape[1]\n",
    "        \n",
    "    def getBandit(self):\n",
    "        self.state = np.random.randint(0, len(self.bandits)) # Returns a random state for each episode.\n",
    "        return self.state\n",
    "        \n",
    "    def pullArm(self, action):\n",
    "        # Get a random number.\n",
    "        bandit = self.bandits[self.state, action]\n",
    "        result = np.random.randn(1)\n",
    "        if result > bandit:\n",
    "            # return a positive reward.\n",
    "            return 1\n",
    "        else:\n",
    "            # return a negative reward.\n",
    "            return -1"
   ]
  },
  {
   "cell_type": "markdown",
   "metadata": {},
   "source": [
    "### The policy-based agent"
   ]
  },
  {
   "cell_type": "code",
   "execution_count": 41,
   "metadata": {
    "collapsed": true
   },
   "outputs": [],
   "source": [
    "class agent():\n",
    "    def __init__(self, learning_rate, state_size, action_size):\n",
    "        # These lines established the feed-forward part of the network. The agent takes a state and produces an action.\n",
    "        self.state_in = tf.placeholder(shape=[1], dtype=tf.int32)\n",
    "        state_in_OH = slim.one_hot_encoding(self.state_in, state_size)\n",
    "        output = slim.fully_connected(state_in_OH,\n",
    "                                      action_size,\n",
    "                                      biases_initializer=None,\n",
    "                                      activation_fn=tf.nn.sigmoid,\n",
    "                                      weights_initializer=tf.ones_initializer())\n",
    "        self.output = tf.reshape(output, [-1])\n",
    "        self.chosen_action = tf.argmax(self.output, 0)\n",
    "\n",
    "        # The next six lines establish the training procedure. We feed the reward and chosen action into the network\n",
    "        # to compute the loss, and use it to update the network.\n",
    "        self.reward_holder = tf.placeholder(shape=[1], dtype=tf.float32)\n",
    "        self.action_holder = tf.placeholder(shape=[1], dtype=tf.int32)\n",
    "        self.responsible_weight = tf.slice(self.output, self.action_holder, [1])\n",
    "        self.loss = -(tf.log(self.responsible_weight) * self.reward_holder)\n",
    "        optimizer = tf.train.GradientDescentOptimizer(learning_rate=learning_rate)\n",
    "        self.update = optimizer.minimize(self.loss)"
   ]
  },
  {
   "cell_type": "markdown",
   "metadata": {},
   "source": [
    "### Training the agent"
   ]
  },
  {
   "cell_type": "code",
   "execution_count": 42,
   "metadata": {},
   "outputs": [
    {
     "name": "stdout",
     "output_type": "stream",
     "text": [
      "Mean reward for each of the 3 bandits: [ 0.    0.    0.25]\n",
      "Mean reward for each of the 3 bandits: [  6.    39.25  40.5 ]\n",
      "Mean reward for each of the 3 bandits: [ 18.    73.5   74.25]\n",
      "Mean reward for each of the 3 bandits: [  58.25  111.5   107.5 ]\n",
      "Mean reward for each of the 3 bandits: [  99.75  147.25  145.75]\n",
      "Mean reward for each of the 3 bandits: [ 137.    188.25  180.  ]\n",
      "Mean reward for each of the 3 bandits: [ 174.5   226.25  216.  ]\n",
      "Mean reward for each of the 3 bandits: [ 213.5   263.    250.75]\n",
      "Mean reward for each of the 3 bandits: [ 248.25  305.25  285.25]\n",
      "Mean reward for each of the 3 bandits: [ 286.75  349.    321.  ]\n",
      "Mean reward for each of the 3 bandits: [ 325.25  387.25  353.75]\n",
      "Mean reward for each of the 3 bandits: [ 367.    424.    387.25]\n",
      "Mean reward for each of the 3 bandits: [ 407.    458.75  424.5 ]\n",
      "Mean reward for each of the 3 bandits: [ 442.    502.75  458.5 ]\n",
      "Mean reward for each of the 3 bandits: [ 479.5   541.75  489.  ]\n",
      "Mean reward for each of the 3 bandits: [ 520.25  579.25  524.25]\n",
      "Mean reward for each of the 3 bandits: [ 558.25  619.25  560.75]\n",
      "Mean reward for each of the 3 bandits: [ 600.25  655.    595.  ]\n",
      "Mean reward for each of the 3 bandits: [ 640.75  690.25  630.75]\n",
      "Mean reward for each of the 3 bandits: [ 683.    727.25  665.5 ]\n",
      "The agent thinks action 4 for bandit 1 is the most promising....\n",
      "...and it was right!\n",
      "The agent thinks action 2 for bandit 2 is the most promising....\n",
      "...and it was right!\n",
      "The agent thinks action 1 for bandit 3 is the most promising....\n",
      "...and it was right!\n"
     ]
    }
   ],
   "source": [
    "tf.reset_default_graph() # Clear the Tensorflow graph.\n",
    "\n",
    "cBandit = contextual_bandit() # Load the bandits.\n",
    "myAgent = agent(learning_rate=0.001, state_size=cBandit.num_bandits, action_size=cBandit.num_actions) # Load the agent.\n",
    "weights = tf.trainable_variables()[0] # The weights we will evaluate to look into the network.\n",
    "\n",
    "total_episodes = 10000 # Set total number of episodes to train agent on.\n",
    "total_reward = np.zeros([cBandit.num_bandits, cBandit.num_actions]) # Set scoreboard for bandits to 0.\n",
    "e = 0.1 # Set the chance of taking a random action.\n",
    "\n",
    "init = tf.global_variables_initializer()\n",
    "\n",
    "# Launch the tensorflow graph\n",
    "with tf.Session() as sess:\n",
    "    sess.run(init)\n",
    "    i = 0\n",
    "    while i < total_episodes:\n",
    "        s = cBandit.getBandit() # Get a state from the environment.\n",
    "        \n",
    "        # Choose either a random action or one from our network.\n",
    "        if np.random.rand(1) < e:\n",
    "            action = np.random.randint(cBandit.num_actions)\n",
    "        else:\n",
    "            action = sess.run(myAgent.chosen_action, feed_dict={myAgent.state_in:[s]})\n",
    "        \n",
    "        reward = cBandit.pullArm(action) # Get our reward for taking an action given a bandit.\n",
    "        \n",
    "        # Update the network.\n",
    "        feed_dict = {myAgent.reward_holder:[reward], myAgent.action_holder:[action], myAgent.state_in:[s]}\n",
    "        _, ww = sess.run([myAgent.update, weights], feed_dict=feed_dict)\n",
    "        \n",
    "        # Update our running tally of scores.\n",
    "        total_reward[s, action] += reward\n",
    "        if i % 500 == 0:\n",
    "            print(\"Mean reward for each of the \" + str(cBandit.num_bandits) + \" bandits: \" + str(np.mean(total_reward, axis=1)))\n",
    "        i += 1\n",
    "\n",
    "for a in range(cBandit.num_bandits):\n",
    "    print(\"The agent thinks action \" + str(np.argmax(ww[a]) + 1) + \" for bandit \" + str(a + 1) + \" is the most promising....\")\n",
    "    if np.argmax(ww[a]) == np.argmin(cBandit.bandits[a]):\n",
    "        print(\"...and it was right!\")\n",
    "    else:\n",
    "        print(\"...and it was wrong!\")"
   ]
  },
  {
   "cell_type": "code",
   "execution_count": null,
   "metadata": {},
   "outputs": [],
   "source": []
  }
 ],
 "metadata": {
  "kernelspec": {
   "display_name": "Python 3",
   "language": "python",
   "name": "python3"
  },
  "language_info": {
   "codemirror_mode": {
    "name": "ipython",
    "version": 3
   },
   "file_extension": ".py",
   "mimetype": "text/x-python",
   "name": "python",
   "nbconvert_exporter": "python",
   "pygments_lexer": "ipython3",
   "version": "3.6.1"
  }
 },
 "nbformat": 4,
 "nbformat_minor": 2
}
